{
 "cells": [
  {
   "cell_type": "markdown",
   "metadata": {
    "pycharm": {
     "name": "#%% md\n"
    }
   },
   "source": [
    "Todo List\n",
    "1. Transform data by strength, \n",
    "2. One hot coding transformation\n",
    "3. Split data\n",
    "4. lightgbm or xgboost prediction\n",
    "5. r2 values\n",
    "6. finding optimal values by genetic algorithm"
   ]
  },
  {
   "cell_type": "markdown",
   "metadata": {
    "pycharm": {
     "name": "#%% md\n"
    }
   },
   "source": [
    "# Transform data by strength,"
   ]
  },
  {
   "cell_type": "code",
   "execution_count": 69,
   "metadata": {
    "pycharm": {
     "is_executing": true,
     "name": "#%%\n"
    }
   },
   "outputs": [],
   "source": [
    "import pandas as pd\n",
    "from sklearn.linear_model import LinearRegression\n",
    "from sklearn.model_selection import train_test_split\n",
    "from sklearn.metrics import r2_score\n",
    "import numpy as np\n",
    "from geneticalgorithm import geneticalgorithm as ga"
   ]
  },
  {
   "cell_type": "code",
   "execution_count": 70,
   "metadata": {
    "pycharm": {
     "name": "#%%\n"
    }
   },
   "outputs": [],
   "source": [
    "#file_name = \"ÇNK dayanım çalışması data seti.xlsx\""
   ]
  },
  {
   "cell_type": "code",
   "execution_count": 71,
   "metadata": {
    "pycharm": {
     "name": "#%%\n"
    }
   },
   "outputs": [],
   "source": [
    "file_name = \"Copy of ÇNK dayanım çalışması data seti.xlsx\""
   ]
  },
  {
   "cell_type": "code",
   "execution_count": 72,
   "metadata": {
    "pycharm": {
     "name": "#%%\n"
    }
   },
   "outputs": [
    {
     "data": {
      "text/plain": [
       "'Copy of ÇNK dayanım çalışması data seti.xlsx'"
      ]
     },
     "execution_count": 72,
     "metadata": {},
     "output_type": "execute_result"
    }
   ],
   "source": [
    "file_name"
   ]
  },
  {
   "cell_type": "code",
   "execution_count": null,
   "outputs": [],
   "source": [
    "df_s = pd.read_excel(f'./data/{file_name}',skiprows=0,sheet_name=\"Yeni Data\")"
   ],
   "metadata": {
    "collapsed": false,
    "pycharm": {
     "name": "#%%\n"
    }
   }
  },
  {
   "cell_type": "code",
   "execution_count": null,
   "outputs": [],
   "source": [
    "df_2 = df_s[['KILN', 'TYPE', '32mM', '45mM', '90mM', 'Blaine',\n",
    "       '2 Days',  'Insoluble Residue', 'SiO2', 'Al2O3',\n",
    "       'Fe2O3', 'CaO', 'MgO', 'SO3', 'LOI', 'Na2O', 'K2O', 'Eq', 'Freelime',\n",
    "       'S.M', 'Al.M', 'LSF', 'C3S', 'C2S', 'C3A', 'C4AF', 'L.Faz', 'MSO3',\n",
    "       'Grinding Time']].copy()"
   ],
   "metadata": {
    "collapsed": false,
    "pycharm": {
     "name": "#%%\n"
    }
   }
  },
  {
   "cell_type": "code",
   "execution_count": null,
   "outputs": [],
   "source": [
    "df_2.rename(columns={'2 Days':'Strength'},inplace=True)\n",
    "df_2['passed_day'] = 2"
   ],
   "metadata": {
    "collapsed": false,
    "pycharm": {
     "name": "#%%\n"
    }
   }
  },
  {
   "cell_type": "code",
   "execution_count": null,
   "outputs": [],
   "source": [
    "df_7 = df_s[['KILN', 'TYPE', '32mM', '45mM', '90mM', 'Blaine',\n",
    "        '7 Days',  'Insoluble Residue', 'SiO2', 'Al2O3',\n",
    "       'Fe2O3', 'CaO', 'MgO', 'SO3', 'LOI', 'Na2O', 'K2O', 'Eq', 'Freelime',\n",
    "       'S.M', 'Al.M', 'LSF', 'C3S', 'C2S', 'C3A', 'C4AF', 'L.Faz', 'MSO3',\n",
    "       'Grinding Time']].copy()"
   ],
   "metadata": {
    "collapsed": false,
    "pycharm": {
     "name": "#%%\n"
    }
   }
  },
  {
   "cell_type": "code",
   "execution_count": null,
   "outputs": [],
   "source": [
    "df_7.rename(columns={'7 Days':'Strength'},inplace=True)\n",
    "df_7['passed_day'] = 7"
   ],
   "metadata": {
    "collapsed": false,
    "pycharm": {
     "name": "#%%\n"
    }
   }
  },
  {
   "cell_type": "code",
   "execution_count": null,
   "outputs": [],
   "source": [
    "df_28 = df_s[['KILN', 'TYPE', '32mM', '45mM', '90mM', 'Blaine',\n",
    "         '28 Days', 'Insoluble Residue', 'SiO2', 'Al2O3',\n",
    "       'Fe2O3', 'CaO', 'MgO', 'SO3', 'LOI', 'Na2O', 'K2O', 'Eq', 'Freelime',\n",
    "       'S.M', 'Al.M', 'LSF', 'C3S', 'C2S', 'C3A', 'C4AF', 'L.Faz', 'MSO3',\n",
    "       'Grinding Time']].copy()"
   ],
   "metadata": {
    "collapsed": false,
    "pycharm": {
     "name": "#%%\n"
    }
   }
  },
  {
   "cell_type": "code",
   "execution_count": null,
   "outputs": [],
   "source": [
    "df_28.rename(columns={'28 Days':'Strength'},inplace=True)\n",
    "df_28['passed_day'] = 28"
   ],
   "metadata": {
    "collapsed": false,
    "pycharm": {
     "name": "#%%\n"
    }
   }
  },
  {
   "cell_type": "code",
   "execution_count": null,
   "outputs": [],
   "source": [
    "df_s= pd.concat([df_2,df_7,df_28])"
   ],
   "metadata": {
    "collapsed": false,
    "pycharm": {
     "name": "#%%\n"
    }
   }
  },
  {
   "cell_type": "code",
   "execution_count": null,
   "outputs": [],
   "source": [
    "df_s.dropna(subset=['Strength'],inplace=True)"
   ],
   "metadata": {
    "collapsed": false,
    "pycharm": {
     "name": "#%%\n"
    }
   }
  },
  {
   "cell_type": "markdown",
   "source": [
    "# One hot coding transformation"
   ],
   "metadata": {
    "collapsed": false,
    "pycharm": {
     "name": "#%% md\n"
    }
   }
  },
  {
   "cell_type": "code",
   "execution_count": null,
   "outputs": [],
   "source": [
    "df_s"
   ],
   "metadata": {
    "collapsed": false,
    "pycharm": {
     "name": "#%%\n"
    }
   }
  },
  {
   "cell_type": "code",
   "execution_count": null,
   "outputs": [],
   "source": [
    "df_s = pd.concat([df_s,pd.get_dummies(df_s[['KILN','TYPE']])],axis=1)"
   ],
   "metadata": {
    "collapsed": false,
    "pycharm": {
     "name": "#%%\n"
    }
   }
  },
  {
   "cell_type": "code",
   "execution_count": null,
   "outputs": [],
   "source": [
    "df_s.drop(['KILN','TYPE'],axis=1,inplace=True)"
   ],
   "metadata": {
    "collapsed": false,
    "pycharm": {
     "name": "#%%\n"
    }
   }
  },
  {
   "cell_type": "code",
   "execution_count": null,
   "outputs": [],
   "source": [
    "df_s.head()"
   ],
   "metadata": {
    "collapsed": false,
    "pycharm": {
     "name": "#%%\n"
    }
   }
  },
  {
   "cell_type": "code",
   "execution_count": null,
   "outputs": [],
   "source": [
    "# df_s.to_csv('strength.csv')"
   ],
   "metadata": {
    "collapsed": false,
    "pycharm": {
     "name": "#%%\n"
    }
   }
  },
  {
   "cell_type": "code",
   "execution_count": null,
   "outputs": [],
   "source": [
    "df_s.describe()"
   ],
   "metadata": {
    "collapsed": false,
    "pycharm": {
     "name": "#%%\n"
    }
   }
  },
  {
   "cell_type": "code",
   "execution_count": null,
   "outputs": [],
   "source": [
    "df_s['C3S'] = 4.071 * (df_s['CaO'] - df_s['Freelime']) - \\\n",
    "                   (7.602*df_s['SiO2']) - (6.718*df_s['Al2O3']) - \\\n",
    "                   (1.43*df_s['Fe2O3'])\n",
    "df_s['C4AF']  = 3.043 *df_s['Fe2O3']\n",
    "df_s['C3A']  = 2.65*df_s['Al2O3'] - 1.692 * df_s['Fe2O3']\n",
    "df_s['Eq']  =  df_s['Na2O'] + 0.658 * df_s['K2O']\n",
    "df_s['S.M']  =   df_s['SiO2'] / (df_s['Al2O3'] + df_s['Fe2O3'])\n",
    "df_s['LSF'] = 100 * df_s['CaO'] / (2.8 * df_s['SiO2'] + 1.18 * df_s['Al2O3'] + 0.65 * df_s['Fe2O3'])\n",
    "df_s['C2S'] = (2.867 * df_s['SiO2']) - (0.7544 * df_s['C3S'])\n",
    "df_s['L.Faz'] = 3 * df_s['Al2O3'] + 2.25 * df_s['Fe2O3'] + df_s['MgO'] + df_s['Na2O'] + df_s['K2O']\n",
    "df_s['Al.M' ] =  df_s['Al2O3'] / df_s['Fe2O3']"
   ],
   "metadata": {
    "collapsed": false,
    "pycharm": {
     "name": "#%%\n"
    }
   }
  },
  {
   "cell_type": "raw",
   "source": [
    "df_s['C4AF']  = 3.043 *df_s['Fe2O3']"
   ],
   "metadata": {
    "collapsed": false,
    "pycharm": {
     "name": "#%% raw\n"
    }
   }
  },
  {
   "cell_type": "raw",
   "source": [
    "df_s['C3A']  = 2.65*df_s['Al2O3'] - 1.692 * df_s['Fe2O3']"
   ],
   "metadata": {
    "collapsed": false,
    "pycharm": {
     "name": "#%% raw\n"
    }
   }
  },
  {
   "cell_type": "raw",
   "source": [
    "df_s['Eq']  =  df_s['Na2O'] + 0.658 * df_s['K2O']"
   ],
   "metadata": {
    "collapsed": false,
    "pycharm": {
     "name": "#%% raw\n"
    }
   }
  },
  {
   "cell_type": "raw",
   "source": [
    "df_s['S.M']  =   df_s['SiO2'] / (df_s['Al2O3'] + df_s['Fe2O3'])"
   ],
   "metadata": {
    "collapsed": false,
    "pycharm": {
     "name": "#%% raw\n"
    }
   }
  },
  {
   "cell_type": "raw",
   "source": [
    "df_s['LSF'] = 100 * df_s['CaO'] / (2.8 * df_s['SiO2'] + 1.18 * df_s['Al2O3'] + 0.65 * df_s['Fe2O3'])"
   ],
   "metadata": {
    "collapsed": false,
    "pycharm": {
     "name": "#%% raw\n"
    }
   }
  },
  {
   "cell_type": "raw",
   "source": [
    "df_s['C2S'] = (2.867 * df_s['SiO2']) - (0.7544 * df_s['C3S'])"
   ],
   "metadata": {
    "collapsed": false,
    "pycharm": {
     "name": "#%% raw\n"
    }
   }
  },
  {
   "cell_type": "raw",
   "source": [
    "df_s['C3S'] = 4.071 * (df_s['CaO'] - df_s['Freelime']) - \\\n",
    "                   (7.602*df_s['SiO2']) - (6.718*df_s['Al2O3']) - \\\n",
    "                   (1.43*df_s['Fe2O3'])\n"
   ],
   "metadata": {
    "collapsed": false,
    "pycharm": {
     "name": "#%% raw\n"
    }
   }
  },
  {
   "cell_type": "raw",
   "source": [
    "df_s['L.Faz'] = 3 * df_s['Al2O3'] + 2.25 * df_s['Fe2O3'] + df_s['MgO'] + df_s['Na2O'] + df_s['K2O']"
   ],
   "metadata": {
    "collapsed": false,
    "pycharm": {
     "name": "#%% raw\n"
    }
   }
  },
  {
   "cell_type": "code",
   "execution_count": null,
   "outputs": [],
   "source": [
    "df_s.loc[df_s['Insoluble Residue'].isna(),'Insoluble Residue']= df_s['Insoluble Residue'].mean()\n",
    "df_s.loc[df_s['Grinding Time'].isna(),'Grinding Time']= df_s['Grinding Time'].mean()"
   ],
   "metadata": {
    "collapsed": false,
    "pycharm": {
     "name": "#%%\n"
    }
   }
  },
  {
   "cell_type": "code",
   "execution_count": null,
   "outputs": [],
   "source": [
    "df_s.info()"
   ],
   "metadata": {
    "collapsed": false,
    "pycharm": {
     "name": "#%%\n"
    }
   }
  },
  {
   "cell_type": "code",
   "execution_count": null,
   "outputs": [],
   "source": [
    "df_s = df_s.sample(frac = 1)"
   ],
   "metadata": {
    "collapsed": false,
    "pycharm": {
     "name": "#%%\n"
    }
   }
  },
  {
   "cell_type": "code",
   "execution_count": null,
   "outputs": [],
   "source": [
    "df_s.head()"
   ],
   "metadata": {
    "collapsed": false,
    "pycharm": {
     "name": "#%%\n"
    }
   }
  },
  {
   "cell_type": "code",
   "execution_count": null,
   "outputs": [],
   "source": [
    "corr = df_s.corr()\n",
    "corr.style.background_gradient(cmap='coolwarm')"
   ],
   "metadata": {
    "collapsed": false,
    "pycharm": {
     "name": "#%%\n"
    }
   }
  },
  {
   "cell_type": "markdown",
   "source": [
    "# Prediction"
   ],
   "metadata": {
    "collapsed": false,
    "pycharm": {
     "name": "#%% md\n"
    }
   }
  },
  {
   "cell_type": "code",
   "execution_count": null,
   "outputs": [],
   "source": [
    "inputs=['Blaine', 'MgO', 'S.M',\n",
    "          'C3S',   'C3A',   'MSO3',  \n",
    "       'passed_day', 'KILN_KLİNKER-1', 'TYPE_LA']"
   ],
   "metadata": {
    "collapsed": false,
    "pycharm": {
     "name": "#%%\n"
    }
   }
  },
  {
   "cell_type": "code",
   "execution_count": null,
   "outputs": [],
   "source": [
    "df_s"
   ],
   "metadata": {
    "collapsed": false,
    "pycharm": {
     "name": "#%%\n"
    }
   }
  },
  {
   "cell_type": "markdown",
   "source": [
    "# Split data"
   ],
   "metadata": {
    "collapsed": false,
    "pycharm": {
     "name": "#%% md\n"
    }
   }
  },
  {
   "cell_type": "code",
   "execution_count": null,
   "outputs": [],
   "source": [
    "X_2 = df_s[inputs]\n",
    "y_2= df_s['Strength']\n",
    "X_train, X_test, y_train, y_test = train_test_split(X_2, y_2, test_size=0.3, random_state=101)\n",
    "# model = LinearRegression()\n",
    "# model.fit(X_train,y_train)\n",
    "# y_pred = model.predict(X_test)\n",
    "# y_train_pred = model.predict(X_train)"
   ],
   "metadata": {
    "collapsed": false,
    "pycharm": {
     "name": "#%%\n"
    }
   }
  },
  {
   "cell_type": "code",
   "execution_count": null,
   "outputs": [],
   "source": [
    "df_s.shape"
   ],
   "metadata": {
    "collapsed": false,
    "pycharm": {
     "name": "#%%\n"
    }
   }
  },
  {
   "cell_type": "markdown",
   "source": [
    "# Split data"
   ],
   "metadata": {
    "collapsed": false,
    "pycharm": {
     "name": "#%% md\n"
    }
   }
  },
  {
   "cell_type": "code",
   "execution_count": null,
   "outputs": [],
   "source": [
    "X_2 = df_s[inputs]\n",
    "y_2= df_s['Strength']\n",
    "X_train, X_test, y_train, y_test = train_test_split(X_2, y_2, test_size=0.3, random_state=101)\n",
    "# model = LinearRegression()\n",
    "# model.fit(X_train,y_train)\n",
    "# y_pred = model.predict(X_test)\n",
    "# y_train_pred = model.predict(X_train)"
   ],
   "metadata": {
    "collapsed": false,
    "pycharm": {
     "name": "#%%\n"
    }
   }
  },
  {
   "cell_type": "code",
   "execution_count": null,
   "outputs": [],
   "source": [
    "df_s.shape"
   ],
   "metadata": {
    "collapsed": false,
    "pycharm": {
     "name": "#%%\n"
    }
   }
  },
  {
   "cell_type": "markdown",
   "source": [
    "# r2 values"
   ],
   "metadata": {
    "collapsed": false,
    "pycharm": {
     "name": "#%% md\n"
    }
   }
  },
  {
   "cell_type": "code",
   "execution_count": null,
   "outputs": [],
   "source": [
    "r2_score(y_train_pred, y_train)"
   ],
   "metadata": {
    "collapsed": false,
    "pycharm": {
     "name": "#%%\n"
    }
   }
  },
  {
   "cell_type": "code",
   "execution_count": null,
   "outputs": [],
   "source": [
    "r2_score(y_pred, y_test)"
   ],
   "metadata": {
    "collapsed": false,
    "pycharm": {
     "name": "#%%\n"
    }
   }
  },
  {
   "cell_type": "code",
   "execution_count": null,
   "outputs": [],
   "source": [
    "df_s.loc[df_s['TYPE_L.A']==0,'MSO3'].mean()"
   ],
   "metadata": {
    "collapsed": false,
    "pycharm": {
     "name": "#%%\n"
    }
   }
  },
  {
   "cell_type": "code",
   "execution_count": null,
   "outputs": [],
   "source": [
    "# LightGBM"
   ],
   "metadata": {
    "collapsed": false,
    "pycharm": {
     "name": "#%%\n"
    }
   }
  },
  {
   "cell_type": "code",
   "execution_count": null,
   "outputs": [],
   "source": [
    "import lightgbm as lgb"
   ],
   "metadata": {
    "collapsed": false,
    "pycharm": {
     "name": "#%%\n"
    }
   }
  },
  {
   "cell_type": "code",
   "execution_count": null,
   "outputs": [],
   "source": [
    "lgb_train = lgb.Dataset(X_train, y_train)\n",
    "lgb_eval = lgb.Dataset(X_test, y_test, reference=lgb_train)"
   ],
   "metadata": {
    "collapsed": false,
    "pycharm": {
     "name": "#%%\n"
    }
   }
  },
  {
   "cell_type": "code",
   "execution_count": null,
   "outputs": [],
   "source": [
    "params = {\n",
    "    'task': 'train', \n",
    "    'boosting': 'gbdt',\n",
    "    'objective': 'regression',\n",
    "    'num_leaves': 10,\n",
    "    'learnnig_rage': 0.05,\n",
    "    'metric': {'l2','l1'},\n",
    "    'verbose': -1\n",
    "}"
   ],
   "metadata": {
    "collapsed": false,
    "pycharm": {
     "name": "#%%\n"
    }
   }
  },
  {
   "cell_type": "code",
   "execution_count": null,
   "outputs": [],
   "source": [
    "model = lgb.train(params,\n",
    "                 train_set=lgb_train,\n",
    "                 valid_sets=lgb_eval,\n",
    "                 early_stopping_rounds=30)\n",
    "  "
   ],
   "metadata": {
    "collapsed": false,
    "pycharm": {
     "name": "#%%\n"
    }
   }
  },
  {
   "cell_type": "code",
   "execution_count": null,
   "outputs": [],
   "source": [
    "y_pred = model.predict(X_test)"
   ],
   "metadata": {
    "collapsed": false,
    "pycharm": {
     "name": "#%%\n"
    }
   }
  },
  {
   "cell_type": "code",
   "execution_count": null,
   "outputs": [],
   "source": [
    "r2_score(y_pred, y_test)"
   ],
   "metadata": {
    "collapsed": false,
    "pycharm": {
     "name": "#%%\n"
    }
   }
  },
  {
   "cell_type": "code",
   "execution_count": null,
   "outputs": [],
   "source": [
    "a=pd.DataFrame();a['t']=y_test;a['p']=y_pred"
   ],
   "metadata": {
    "collapsed": false,
    "pycharm": {
     "name": "#%%\n"
    }
   }
  },
  {
   "cell_type": "code",
   "execution_count": null,
   "outputs": [],
   "source": [
    "a['d'] = a['t'] - a['p']"
   ],
   "metadata": {
    "collapsed": false,
    "pycharm": {
     "name": "#%%\n"
    }
   }
  },
  {
   "cell_type": "code",
   "execution_count": null,
   "outputs": [],
   "source": [
    "a['d'].plot()"
   ],
   "metadata": {
    "collapsed": false,
    "pycharm": {
     "name": "#%%\n"
    }
   }
  },
  {
   "cell_type": "markdown",
   "source": [
    "# Finding optimal values by genetic algorithm"
   ],
   "metadata": {
    "collapsed": false,
    "pycharm": {
     "name": "#%% md\n"
    }
   }
  },
  {
   "cell_type": "code",
   "execution_count": null,
   "outputs": [],
   "source": [
    "def f(set_x):\n",
    "    blaine=set_x[0]\n",
    "    mgo=set_x[1]\n",
    "    sm=set_x[2]\n",
    "    c3s=set_x[3]\n",
    "    c3a=set_x[4]\n",
    "    mso3=set_x[5] \n",
    "    passed_day = 28\n",
    "    kiln_1 = 1\n",
    "    product_la = 0\n",
    "    x_test=np.array([[blaine,mgo,sm,c3s,c3a,mso3,passed_day,kiln_1,product_la ]])\n",
    "    df_test = pd.DataFrame(data=x_test,columns=X_train.columns.tolist())\n",
    "    s_n= model.predict(df_test)[0] - 53\n",
    "    s_p= 53- model.predict(df_test)[0] \n",
    "    return s_n+s_p"
   ],
   "metadata": {
    "collapsed": false,
    "pycharm": {
     "name": "#%%\n"
    }
   }
  },
  {
   "cell_type": "code",
   "execution_count": null,
   "outputs": [],
   "source": [
    "l_s=[[3200,3250],[2.8,3.0],[2.25,2.55],[58,65],[5.5,8 ],[125,128]]"
   ],
   "metadata": {
    "collapsed": false,
    "pycharm": {
     "name": "#%%\n"
    }
   }
  },
  {
   "cell_type": "code",
   "execution_count": null,
   "outputs": [],
   "source": [
    "varbound= np.array(l_s)"
   ],
   "metadata": {
    "collapsed": false,
    "pycharm": {
     "name": "#%%\n"
    }
   }
  },
  {
   "cell_type": "code",
   "execution_count": null,
   "outputs": [],
   "source": [
    "param={'max_num_iteration': 1000,\n",
    " 'population_size': 100,\n",
    " 'mutation_probability': 0.6,\n",
    " 'elit_ratio': 0.03,\n",
    " 'crossover_probability': 0.8,\n",
    " 'parents_portion': 0.2,\n",
    " 'crossover_type': 'uniform',\n",
    " 'max_iteration_without_improv': 150}"
   ],
   "metadata": {
    "collapsed": false,
    "pycharm": {
     "name": "#%%\n"
    }
   }
  },
  {
   "cell_type": "code",
   "execution_count": null,
   "outputs": [],
   "source": [
    "model_ga=ga(function=f,dimension=6,variable_type='real',variable_boundaries=varbound,algorithm_parameters=param)\n",
    "\n",
    "#model_ga.run()"
   ],
   "metadata": {
    "collapsed": false,
    "pycharm": {
     "name": "#%%\n"
    }
   }
  },
  {
   "cell_type": "code",
   "execution_count": null,
   "outputs": [],
   "source": [
    "model_ga.param"
   ],
   "metadata": {
    "collapsed": false,
    "pycharm": {
     "name": "#%%\n"
    }
   }
  },
  {
   "cell_type": "code",
   "execution_count": null,
   "outputs": [],
   "source": [
    "model_ga.run()"
   ],
   "metadata": {
    "collapsed": false,
    "pycharm": {
     "name": "#%%\n"
    }
   }
  },
  {
   "cell_type": "code",
   "execution_count": null,
   "outputs": [],
   "source": [
    "set_list=['Blaine', 'MgO', 'S.M',\n",
    "          'C3S',   'C3A',   'MSO3']\n"
   ],
   "metadata": {
    "collapsed": false,
    "pycharm": {
     "name": "#%%\n"
    }
   }
  },
  {
   "cell_type": "code",
   "execution_count": null,
   "outputs": [],
   "source": [
    "f1 = pd.DataFrame(data=model_ga.best_variable.tolist(),index=set_list).T"
   ],
   "metadata": {
    "collapsed": false,
    "pycharm": {
     "name": "#%%\n"
    }
   }
  },
  {
   "cell_type": "code",
   "execution_count": null,
   "outputs": [],
   "source": [
    "f1['KILN_KLİNKER-1']=1\n",
    "f1['TYPE_LA']=0\n",
    "f1['passed_day']=28"
   ],
   "metadata": {
    "collapsed": false,
    "pycharm": {
     "name": "#%%\n"
    }
   }
  },
  {
   "cell_type": "code",
   "execution_count": null,
   "outputs": [],
   "source": [
    "model.predict(f1[X_test.columns])"
   ],
   "metadata": {
    "collapsed": false,
    "pycharm": {
     "name": "#%%\n"
    }
   }
  },
  {
   "cell_type": "code",
   "execution_count": null,
   "outputs": [],
   "source": [
    "f1"
   ],
   "metadata": {
    "collapsed": false,
    "pycharm": {
     "name": "#%%\n"
    }
   }
  },
  {
   "cell_type": "code",
   "execution_count": null,
   "outputs": [],
   "source": [
    "scenario = pd.read_excel(f'./data/{file_name}',sheet_name='senaryolar')"
   ],
   "metadata": {
    "collapsed": false,
    "pycharm": {
     "name": "#%%\n"
    }
   }
  },
  {
   "cell_type": "code",
   "execution_count": null,
   "outputs": [],
   "source": [
    "scenario=scenario.drop([0,1])"
   ],
   "metadata": {
    "collapsed": false,
    "pycharm": {
     "name": "#%%\n"
    }
   }
  },
  {
   "cell_type": "code",
   "execution_count": null,
   "outputs": [],
   "source": [
    "scenario.drop(['DATE OF SAMPLE','2 Days','7 Days','28 Days'],axis=1,inplace=True)"
   ],
   "metadata": {
    "collapsed": false,
    "pycharm": {
     "name": "#%%\n"
    }
   }
  },
  {
   "cell_type": "code",
   "execution_count": null,
   "outputs": [],
   "source": [
    "scenario"
   ],
   "metadata": {
    "collapsed": false,
    "pycharm": {
     "name": "#%%\n"
    }
   }
  },
  {
   "cell_type": "code",
   "execution_count": null,
   "outputs": [],
   "source": [
    "scenario= pd.get_dummies(scenario)"
   ],
   "metadata": {
    "collapsed": false,
    "pycharm": {
     "name": "#%%\n"
    }
   }
  },
  {
   "cell_type": "code",
   "execution_count": null,
   "outputs": [],
   "source": [
    "scenario['passed_day']=28"
   ],
   "metadata": {
    "collapsed": false,
    "pycharm": {
     "name": "#%%\n"
    }
   }
  },
  {
   "cell_type": "code",
   "execution_count": null,
   "outputs": [],
   "source": [
    "scenario.drop(['KILN_KLİNKER-2','NAME OF SAMPLE_NR','Freelime'],axis=1,inplace=True)"
   ],
   "metadata": {
    "collapsed": false,
    "pycharm": {
     "name": "#%%\n"
    }
   }
  },
  {
   "cell_type": "code",
   "execution_count": null,
   "outputs": [],
   "source": [
    "scenario['Blaine']=3600"
   ],
   "metadata": {
    "collapsed": false,
    "pycharm": {
     "name": "#%%\n"
    }
   }
  },
  {
   "cell_type": "code",
   "execution_count": null,
   "outputs": [],
   "source": [
    "scenario.rename(columns={\"NAME OF SAMPLE_LA\":\"TYPE_LA\"},inplace=True)"
   ],
   "metadata": {
    "collapsed": false,
    "pycharm": {
     "name": "#%%\n"
    }
   }
  },
  {
   "cell_type": "code",
   "execution_count": null,
   "outputs": [],
   "source": [
    "scenario= scenario[X_test.columns.tolist()]"
   ],
   "metadata": {
    "collapsed": false,
    "pycharm": {
     "name": "#%%\n"
    }
   }
  },
  {
   "cell_type": "code",
   "execution_count": null,
   "outputs": [],
   "source": [
    "scenario.head()"
   ],
   "metadata": {
    "collapsed": false,
    "pycharm": {
     "name": "#%%\n"
    }
   }
  },
  {
   "cell_type": "code",
   "execution_count": null,
   "outputs": [],
   "source": [
    "scenario"
   ],
   "metadata": {
    "collapsed": false,
    "pycharm": {
     "name": "#%%\n"
    }
   }
  },
  {
   "cell_type": "code",
   "execution_count": null,
   "outputs": [],
   "source": [
    "scenario['28_days_pred'] = model.predict(scenario)"
   ],
   "metadata": {
    "collapsed": false,
    "pycharm": {
     "name": "#%%\n"
    }
   }
  },
  {
   "cell_type": "code",
   "execution_count": null,
   "outputs": [],
   "source": [
    "scenario.head(20)"
   ],
   "metadata": {
    "collapsed": false,
    "pycharm": {
     "name": "#%%\n"
    }
   }
  },
  {
   "cell_type": "code",
   "execution_count": null,
   "outputs": [],
   "source": [
    "scenario.to_excel(\"28days_pred.xlsx\")"
   ],
   "metadata": {
    "collapsed": false,
    "pycharm": {
     "name": "#%%\n"
    }
   }
  },
  {
   "cell_type": "code",
   "execution_count": null,
   "outputs": [],
   "source": [
    "scenario.loc[scenario['28_days_pred']==scenario['28_days_pred'].max()]"
   ],
   "metadata": {
    "collapsed": false,
    "pycharm": {
     "name": "#%%\n"
    }
   }
  },
  {
   "cell_type": "code",
   "execution_count": null,
   "outputs": [],
   "source": [
    "scenario.sort_values(by=['28_days_pred'],ascending=False).head(20)"
   ],
   "metadata": {
    "collapsed": false,
    "pycharm": {
     "name": "#%%\n"
    }
   }
  },
  {
   "cell_type": "code",
   "execution_count": 176,
   "metadata": {
    "pycharm": {
     "name": "#%%\n"
    }
   },
   "outputs": [
    {
     "data": {
      "text/html": [
       "<div>\n",
       "<style scoped>\n",
       "    .dataframe tbody tr th:only-of-type {\n",
       "        vertical-align: middle;\n",
       "    }\n",
       "\n",
       "    .dataframe tbody tr th {\n",
       "        vertical-align: top;\n",
       "    }\n",
       "\n",
       "    .dataframe thead th {\n",
       "        text-align: right;\n",
       "    }\n",
       "</style>\n",
       "<table border=\"1\" class=\"dataframe\">\n",
       "  <thead>\n",
       "    <tr style=\"text-align: right;\">\n",
       "      <th></th>\n",
       "      <th>Blaine</th>\n",
       "      <th>MgO</th>\n",
       "      <th>S.M</th>\n",
       "      <th>C3S</th>\n",
       "      <th>C3A</th>\n",
       "      <th>MSO3</th>\n",
       "      <th>passed_day</th>\n",
       "      <th>KILN_KLİNKER-1</th>\n",
       "      <th>TYPE_LA</th>\n",
       "    </tr>\n",
       "  </thead>\n",
       "  <tbody>\n",
       "    <tr>\n",
       "      <th>2</th>\n",
       "      <td>3600</td>\n",
       "      <td>2.5</td>\n",
       "      <td>2.440376</td>\n",
       "      <td>60.53011</td>\n",
       "      <td>7.162795</td>\n",
       "      <td>127.807241</td>\n",
       "      <td>28</td>\n",
       "      <td>1</td>\n",
       "      <td>0</td>\n",
       "    </tr>\n",
       "    <tr>\n",
       "      <th>3</th>\n",
       "      <td>3600</td>\n",
       "      <td>2.7</td>\n",
       "      <td>2.440376</td>\n",
       "      <td>60.53011</td>\n",
       "      <td>7.162795</td>\n",
       "      <td>127.807241</td>\n",
       "      <td>28</td>\n",
       "      <td>1</td>\n",
       "      <td>0</td>\n",
       "    </tr>\n",
       "    <tr>\n",
       "      <th>4</th>\n",
       "      <td>3600</td>\n",
       "      <td>2.9</td>\n",
       "      <td>2.440376</td>\n",
       "      <td>60.53011</td>\n",
       "      <td>7.162795</td>\n",
       "      <td>127.807241</td>\n",
       "      <td>28</td>\n",
       "      <td>1</td>\n",
       "      <td>0</td>\n",
       "    </tr>\n",
       "    <tr>\n",
       "      <th>5</th>\n",
       "      <td>3600</td>\n",
       "      <td>3.1</td>\n",
       "      <td>2.440376</td>\n",
       "      <td>60.53011</td>\n",
       "      <td>7.162795</td>\n",
       "      <td>127.807241</td>\n",
       "      <td>28</td>\n",
       "      <td>1</td>\n",
       "      <td>0</td>\n",
       "    </tr>\n",
       "    <tr>\n",
       "      <th>6</th>\n",
       "      <td>3600</td>\n",
       "      <td>3.3</td>\n",
       "      <td>2.440376</td>\n",
       "      <td>60.53011</td>\n",
       "      <td>7.162795</td>\n",
       "      <td>127.807241</td>\n",
       "      <td>28</td>\n",
       "      <td>1</td>\n",
       "      <td>0</td>\n",
       "    </tr>\n",
       "  </tbody>\n",
       "</table>\n",
       "</div>"
      ],
      "text/plain": [
       "   Blaine  MgO       S.M       C3S       C3A        MSO3  passed_day  \\\n",
       "2    3600  2.5  2.440376  60.53011  7.162795  127.807241          28   \n",
       "3    3600  2.7  2.440376  60.53011  7.162795  127.807241          28   \n",
       "4    3600  2.9  2.440376  60.53011  7.162795  127.807241          28   \n",
       "5    3600  3.1  2.440376  60.53011  7.162795  127.807241          28   \n",
       "6    3600  3.3  2.440376  60.53011  7.162795  127.807241          28   \n",
       "\n",
       "   KILN_KLİNKER-1  TYPE_LA  \n",
       "2               1        0  \n",
       "3               1        0  \n",
       "4               1        0  \n",
       "5               1        0  \n",
       "6               1        0  "
      ]
     },
     "execution_count": 176,
     "metadata": {},
     "output_type": "execute_result"
    }
   ],
   "source": [
    "scenario.head()"
   ]
  },
  {
   "cell_type": "code",
   "execution_count": 177,
   "metadata": {
    "pycharm": {
     "name": "#%%\n"
    }
   },
   "outputs": [
    {
     "data": {
      "text/html": [
       "<div>\n",
       "<style scoped>\n",
       "    .dataframe tbody tr th:only-of-type {\n",
       "        vertical-align: middle;\n",
       "    }\n",
       "\n",
       "    .dataframe tbody tr th {\n",
       "        vertical-align: top;\n",
       "    }\n",
       "\n",
       "    .dataframe thead th {\n",
       "        text-align: right;\n",
       "    }\n",
       "</style>\n",
       "<table border=\"1\" class=\"dataframe\">\n",
       "  <thead>\n",
       "    <tr style=\"text-align: right;\">\n",
       "      <th></th>\n",
       "      <th>Blaine</th>\n",
       "      <th>MgO</th>\n",
       "      <th>S.M</th>\n",
       "      <th>C3S</th>\n",
       "      <th>C3A</th>\n",
       "      <th>MSO3</th>\n",
       "      <th>passed_day</th>\n",
       "      <th>KILN_KLİNKER-1</th>\n",
       "      <th>TYPE_LA</th>\n",
       "    </tr>\n",
       "  </thead>\n",
       "  <tbody>\n",
       "    <tr>\n",
       "      <th>2</th>\n",
       "      <td>3600</td>\n",
       "      <td>2.500000</td>\n",
       "      <td>2.440376</td>\n",
       "      <td>60.530110</td>\n",
       "      <td>7.162795</td>\n",
       "      <td>127.807241</td>\n",
       "      <td>28</td>\n",
       "      <td>1</td>\n",
       "      <td>0</td>\n",
       "    </tr>\n",
       "    <tr>\n",
       "      <th>3</th>\n",
       "      <td>3600</td>\n",
       "      <td>2.700000</td>\n",
       "      <td>2.440376</td>\n",
       "      <td>60.530110</td>\n",
       "      <td>7.162795</td>\n",
       "      <td>127.807241</td>\n",
       "      <td>28</td>\n",
       "      <td>1</td>\n",
       "      <td>0</td>\n",
       "    </tr>\n",
       "    <tr>\n",
       "      <th>4</th>\n",
       "      <td>3600</td>\n",
       "      <td>2.900000</td>\n",
       "      <td>2.440376</td>\n",
       "      <td>60.530110</td>\n",
       "      <td>7.162795</td>\n",
       "      <td>127.807241</td>\n",
       "      <td>28</td>\n",
       "      <td>1</td>\n",
       "      <td>0</td>\n",
       "    </tr>\n",
       "    <tr>\n",
       "      <th>5</th>\n",
       "      <td>3600</td>\n",
       "      <td>3.100000</td>\n",
       "      <td>2.440376</td>\n",
       "      <td>60.530110</td>\n",
       "      <td>7.162795</td>\n",
       "      <td>127.807241</td>\n",
       "      <td>28</td>\n",
       "      <td>1</td>\n",
       "      <td>0</td>\n",
       "    </tr>\n",
       "    <tr>\n",
       "      <th>6</th>\n",
       "      <td>3600</td>\n",
       "      <td>3.300000</td>\n",
       "      <td>2.440376</td>\n",
       "      <td>60.530110</td>\n",
       "      <td>7.162795</td>\n",
       "      <td>127.807241</td>\n",
       "      <td>28</td>\n",
       "      <td>1</td>\n",
       "      <td>0</td>\n",
       "    </tr>\n",
       "    <tr>\n",
       "      <th>...</th>\n",
       "      <td>...</td>\n",
       "      <td>...</td>\n",
       "      <td>...</td>\n",
       "      <td>...</td>\n",
       "      <td>...</td>\n",
       "      <td>...</td>\n",
       "      <td>...</td>\n",
       "      <td>...</td>\n",
       "      <td>...</td>\n",
       "    </tr>\n",
       "    <tr>\n",
       "      <th>61</th>\n",
       "      <td>3600</td>\n",
       "      <td>2.830000</td>\n",
       "      <td>2.415108</td>\n",
       "      <td>61.125569</td>\n",
       "      <td>6.649069</td>\n",
       "      <td>220.000000</td>\n",
       "      <td>28</td>\n",
       "      <td>0</td>\n",
       "      <td>1</td>\n",
       "    </tr>\n",
       "    <tr>\n",
       "      <th>62</th>\n",
       "      <td>3600</td>\n",
       "      <td>2.795172</td>\n",
       "      <td>2.440376</td>\n",
       "      <td>60.530110</td>\n",
       "      <td>7.162795</td>\n",
       "      <td>127.807241</td>\n",
       "      <td>28</td>\n",
       "      <td>1</td>\n",
       "      <td>0</td>\n",
       "    </tr>\n",
       "    <tr>\n",
       "      <th>63</th>\n",
       "      <td>3600</td>\n",
       "      <td>2.830000</td>\n",
       "      <td>2.415108</td>\n",
       "      <td>61.125569</td>\n",
       "      <td>6.649069</td>\n",
       "      <td>203.341360</td>\n",
       "      <td>28</td>\n",
       "      <td>0</td>\n",
       "      <td>0</td>\n",
       "    </tr>\n",
       "    <tr>\n",
       "      <th>64</th>\n",
       "      <td>3600</td>\n",
       "      <td>2.795172</td>\n",
       "      <td>2.440376</td>\n",
       "      <td>60.530110</td>\n",
       "      <td>7.162795</td>\n",
       "      <td>127.807241</td>\n",
       "      <td>28</td>\n",
       "      <td>1</td>\n",
       "      <td>1</td>\n",
       "    </tr>\n",
       "    <tr>\n",
       "      <th>65</th>\n",
       "      <td>3600</td>\n",
       "      <td>2.830000</td>\n",
       "      <td>2.415108</td>\n",
       "      <td>61.125569</td>\n",
       "      <td>6.649069</td>\n",
       "      <td>203.341360</td>\n",
       "      <td>28</td>\n",
       "      <td>0</td>\n",
       "      <td>1</td>\n",
       "    </tr>\n",
       "  </tbody>\n",
       "</table>\n",
       "<p>64 rows × 9 columns</p>\n",
       "</div>"
      ],
      "text/plain": [
       "    Blaine       MgO       S.M        C3S       C3A        MSO3  passed_day  \\\n",
       "2     3600  2.500000  2.440376  60.530110  7.162795  127.807241          28   \n",
       "3     3600  2.700000  2.440376  60.530110  7.162795  127.807241          28   \n",
       "4     3600  2.900000  2.440376  60.530110  7.162795  127.807241          28   \n",
       "5     3600  3.100000  2.440376  60.530110  7.162795  127.807241          28   \n",
       "6     3600  3.300000  2.440376  60.530110  7.162795  127.807241          28   \n",
       "..     ...       ...       ...        ...       ...         ...         ...   \n",
       "61    3600  2.830000  2.415108  61.125569  6.649069  220.000000          28   \n",
       "62    3600  2.795172  2.440376  60.530110  7.162795  127.807241          28   \n",
       "63    3600  2.830000  2.415108  61.125569  6.649069  203.341360          28   \n",
       "64    3600  2.795172  2.440376  60.530110  7.162795  127.807241          28   \n",
       "65    3600  2.830000  2.415108  61.125569  6.649069  203.341360          28   \n",
       "\n",
       "    KILN_KLİNKER-1  TYPE_LA  \n",
       "2                1        0  \n",
       "3                1        0  \n",
       "4                1        0  \n",
       "5                1        0  \n",
       "6                1        0  \n",
       "..             ...      ...  \n",
       "61               0        1  \n",
       "62               1        0  \n",
       "63               0        0  \n",
       "64               1        1  \n",
       "65               0        1  \n",
       "\n",
       "[64 rows x 9 columns]"
      ]
     },
     "execution_count": 177,
     "metadata": {},
     "output_type": "execute_result"
    }
   ],
   "source": [
    "scenario"
   ]
  },
  {
   "cell_type": "code",
   "execution_count": 178,
   "metadata": {
    "pycharm": {
     "name": "#%%\n"
    }
   },
   "outputs": [],
   "source": [
    "scenario['28_days_pred'] = model.predict(scenario)"
   ]
  },
  {
   "cell_type": "code",
   "execution_count": 179,
   "metadata": {
    "pycharm": {
     "name": "#%%\n"
    }
   },
   "outputs": [
    {
     "data": {
      "text/html": [
       "<div>\n",
       "<style scoped>\n",
       "    .dataframe tbody tr th:only-of-type {\n",
       "        vertical-align: middle;\n",
       "    }\n",
       "\n",
       "    .dataframe tbody tr th {\n",
       "        vertical-align: top;\n",
       "    }\n",
       "\n",
       "    .dataframe thead th {\n",
       "        text-align: right;\n",
       "    }\n",
       "</style>\n",
       "<table border=\"1\" class=\"dataframe\">\n",
       "  <thead>\n",
       "    <tr style=\"text-align: right;\">\n",
       "      <th></th>\n",
       "      <th>Blaine</th>\n",
       "      <th>MgO</th>\n",
       "      <th>S.M</th>\n",
       "      <th>C3S</th>\n",
       "      <th>C3A</th>\n",
       "      <th>MSO3</th>\n",
       "      <th>passed_day</th>\n",
       "      <th>KILN_KLİNKER-1</th>\n",
       "      <th>TYPE_LA</th>\n",
       "      <th>28_days_pred</th>\n",
       "    </tr>\n",
       "  </thead>\n",
       "  <tbody>\n",
       "    <tr>\n",
       "      <th>2</th>\n",
       "      <td>3600</td>\n",
       "      <td>2.500000</td>\n",
       "      <td>2.440376</td>\n",
       "      <td>60.53011</td>\n",
       "      <td>7.162795</td>\n",
       "      <td>127.807241</td>\n",
       "      <td>28</td>\n",
       "      <td>1</td>\n",
       "      <td>0</td>\n",
       "      <td>50.311639</td>\n",
       "    </tr>\n",
       "    <tr>\n",
       "      <th>3</th>\n",
       "      <td>3600</td>\n",
       "      <td>2.700000</td>\n",
       "      <td>2.440376</td>\n",
       "      <td>60.53011</td>\n",
       "      <td>7.162795</td>\n",
       "      <td>127.807241</td>\n",
       "      <td>28</td>\n",
       "      <td>1</td>\n",
       "      <td>0</td>\n",
       "      <td>49.836252</td>\n",
       "    </tr>\n",
       "    <tr>\n",
       "      <th>4</th>\n",
       "      <td>3600</td>\n",
       "      <td>2.900000</td>\n",
       "      <td>2.440376</td>\n",
       "      <td>60.53011</td>\n",
       "      <td>7.162795</td>\n",
       "      <td>127.807241</td>\n",
       "      <td>28</td>\n",
       "      <td>1</td>\n",
       "      <td>0</td>\n",
       "      <td>49.264998</td>\n",
       "    </tr>\n",
       "    <tr>\n",
       "      <th>5</th>\n",
       "      <td>3600</td>\n",
       "      <td>3.100000</td>\n",
       "      <td>2.440376</td>\n",
       "      <td>60.53011</td>\n",
       "      <td>7.162795</td>\n",
       "      <td>127.807241</td>\n",
       "      <td>28</td>\n",
       "      <td>1</td>\n",
       "      <td>0</td>\n",
       "      <td>49.264998</td>\n",
       "    </tr>\n",
       "    <tr>\n",
       "      <th>6</th>\n",
       "      <td>3600</td>\n",
       "      <td>3.300000</td>\n",
       "      <td>2.440376</td>\n",
       "      <td>60.53011</td>\n",
       "      <td>7.162795</td>\n",
       "      <td>127.807241</td>\n",
       "      <td>28</td>\n",
       "      <td>1</td>\n",
       "      <td>0</td>\n",
       "      <td>49.244093</td>\n",
       "    </tr>\n",
       "    <tr>\n",
       "      <th>7</th>\n",
       "      <td>3600</td>\n",
       "      <td>2.795172</td>\n",
       "      <td>2.440376</td>\n",
       "      <td>60.53011</td>\n",
       "      <td>7.162795</td>\n",
       "      <td>127.807241</td>\n",
       "      <td>28</td>\n",
       "      <td>1</td>\n",
       "      <td>0</td>\n",
       "      <td>49.656870</td>\n",
       "    </tr>\n",
       "    <tr>\n",
       "      <th>8</th>\n",
       "      <td>3600</td>\n",
       "      <td>2.795172</td>\n",
       "      <td>2.440376</td>\n",
       "      <td>60.53011</td>\n",
       "      <td>7.162795</td>\n",
       "      <td>127.807241</td>\n",
       "      <td>28</td>\n",
       "      <td>1</td>\n",
       "      <td>0</td>\n",
       "      <td>49.656870</td>\n",
       "    </tr>\n",
       "    <tr>\n",
       "      <th>9</th>\n",
       "      <td>3600</td>\n",
       "      <td>2.795172</td>\n",
       "      <td>2.440376</td>\n",
       "      <td>60.53011</td>\n",
       "      <td>7.162795</td>\n",
       "      <td>127.807241</td>\n",
       "      <td>28</td>\n",
       "      <td>1</td>\n",
       "      <td>0</td>\n",
       "      <td>49.656870</td>\n",
       "    </tr>\n",
       "    <tr>\n",
       "      <th>10</th>\n",
       "      <td>3600</td>\n",
       "      <td>2.795172</td>\n",
       "      <td>2.440376</td>\n",
       "      <td>60.53011</td>\n",
       "      <td>7.162795</td>\n",
       "      <td>127.807241</td>\n",
       "      <td>28</td>\n",
       "      <td>1</td>\n",
       "      <td>0</td>\n",
       "      <td>49.656870</td>\n",
       "    </tr>\n",
       "    <tr>\n",
       "      <th>11</th>\n",
       "      <td>3600</td>\n",
       "      <td>2.795172</td>\n",
       "      <td>2.440376</td>\n",
       "      <td>60.53011</td>\n",
       "      <td>7.162795</td>\n",
       "      <td>127.807241</td>\n",
       "      <td>28</td>\n",
       "      <td>1</td>\n",
       "      <td>0</td>\n",
       "      <td>49.656870</td>\n",
       "    </tr>\n",
       "    <tr>\n",
       "      <th>12</th>\n",
       "      <td>3600</td>\n",
       "      <td>2.795172</td>\n",
       "      <td>2.300000</td>\n",
       "      <td>60.53011</td>\n",
       "      <td>7.162795</td>\n",
       "      <td>127.807241</td>\n",
       "      <td>28</td>\n",
       "      <td>1</td>\n",
       "      <td>0</td>\n",
       "      <td>49.656870</td>\n",
       "    </tr>\n",
       "    <tr>\n",
       "      <th>13</th>\n",
       "      <td>3600</td>\n",
       "      <td>2.795172</td>\n",
       "      <td>2.350000</td>\n",
       "      <td>60.53011</td>\n",
       "      <td>7.162795</td>\n",
       "      <td>127.807241</td>\n",
       "      <td>28</td>\n",
       "      <td>1</td>\n",
       "      <td>0</td>\n",
       "      <td>49.656870</td>\n",
       "    </tr>\n",
       "    <tr>\n",
       "      <th>14</th>\n",
       "      <td>3600</td>\n",
       "      <td>2.795172</td>\n",
       "      <td>2.400000</td>\n",
       "      <td>60.53011</td>\n",
       "      <td>7.162795</td>\n",
       "      <td>127.807241</td>\n",
       "      <td>28</td>\n",
       "      <td>1</td>\n",
       "      <td>0</td>\n",
       "      <td>49.656870</td>\n",
       "    </tr>\n",
       "    <tr>\n",
       "      <th>15</th>\n",
       "      <td>3600</td>\n",
       "      <td>2.795172</td>\n",
       "      <td>2.450000</td>\n",
       "      <td>60.53011</td>\n",
       "      <td>7.162795</td>\n",
       "      <td>127.807241</td>\n",
       "      <td>28</td>\n",
       "      <td>1</td>\n",
       "      <td>0</td>\n",
       "      <td>49.656870</td>\n",
       "    </tr>\n",
       "    <tr>\n",
       "      <th>16</th>\n",
       "      <td>3600</td>\n",
       "      <td>2.795172</td>\n",
       "      <td>2.500000</td>\n",
       "      <td>60.53011</td>\n",
       "      <td>7.162795</td>\n",
       "      <td>127.807241</td>\n",
       "      <td>28</td>\n",
       "      <td>1</td>\n",
       "      <td>0</td>\n",
       "      <td>49.637138</td>\n",
       "    </tr>\n",
       "    <tr>\n",
       "      <th>17</th>\n",
       "      <td>3600</td>\n",
       "      <td>2.795172</td>\n",
       "      <td>2.440376</td>\n",
       "      <td>61.00000</td>\n",
       "      <td>7.162795</td>\n",
       "      <td>127.807241</td>\n",
       "      <td>28</td>\n",
       "      <td>1</td>\n",
       "      <td>0</td>\n",
       "      <td>49.655829</td>\n",
       "    </tr>\n",
       "    <tr>\n",
       "      <th>18</th>\n",
       "      <td>3600</td>\n",
       "      <td>2.795172</td>\n",
       "      <td>2.440376</td>\n",
       "      <td>62.00000</td>\n",
       "      <td>7.162795</td>\n",
       "      <td>127.807241</td>\n",
       "      <td>28</td>\n",
       "      <td>1</td>\n",
       "      <td>0</td>\n",
       "      <td>49.655829</td>\n",
       "    </tr>\n",
       "    <tr>\n",
       "      <th>19</th>\n",
       "      <td>3600</td>\n",
       "      <td>2.795172</td>\n",
       "      <td>2.440376</td>\n",
       "      <td>63.00000</td>\n",
       "      <td>7.162795</td>\n",
       "      <td>127.807241</td>\n",
       "      <td>28</td>\n",
       "      <td>1</td>\n",
       "      <td>0</td>\n",
       "      <td>49.676437</td>\n",
       "    </tr>\n",
       "    <tr>\n",
       "      <th>20</th>\n",
       "      <td>3600</td>\n",
       "      <td>2.795172</td>\n",
       "      <td>2.440376</td>\n",
       "      <td>64.00000</td>\n",
       "      <td>7.162795</td>\n",
       "      <td>127.807241</td>\n",
       "      <td>28</td>\n",
       "      <td>1</td>\n",
       "      <td>0</td>\n",
       "      <td>49.734679</td>\n",
       "    </tr>\n",
       "    <tr>\n",
       "      <th>21</th>\n",
       "      <td>3600</td>\n",
       "      <td>2.795172</td>\n",
       "      <td>2.440376</td>\n",
       "      <td>65.00000</td>\n",
       "      <td>7.162795</td>\n",
       "      <td>127.807241</td>\n",
       "      <td>28</td>\n",
       "      <td>1</td>\n",
       "      <td>0</td>\n",
       "      <td>49.711497</td>\n",
       "    </tr>\n",
       "  </tbody>\n",
       "</table>\n",
       "</div>"
      ],
      "text/plain": [
       "    Blaine       MgO       S.M       C3S       C3A        MSO3  passed_day  \\\n",
       "2     3600  2.500000  2.440376  60.53011  7.162795  127.807241          28   \n",
       "3     3600  2.700000  2.440376  60.53011  7.162795  127.807241          28   \n",
       "4     3600  2.900000  2.440376  60.53011  7.162795  127.807241          28   \n",
       "5     3600  3.100000  2.440376  60.53011  7.162795  127.807241          28   \n",
       "6     3600  3.300000  2.440376  60.53011  7.162795  127.807241          28   \n",
       "7     3600  2.795172  2.440376  60.53011  7.162795  127.807241          28   \n",
       "8     3600  2.795172  2.440376  60.53011  7.162795  127.807241          28   \n",
       "9     3600  2.795172  2.440376  60.53011  7.162795  127.807241          28   \n",
       "10    3600  2.795172  2.440376  60.53011  7.162795  127.807241          28   \n",
       "11    3600  2.795172  2.440376  60.53011  7.162795  127.807241          28   \n",
       "12    3600  2.795172  2.300000  60.53011  7.162795  127.807241          28   \n",
       "13    3600  2.795172  2.350000  60.53011  7.162795  127.807241          28   \n",
       "14    3600  2.795172  2.400000  60.53011  7.162795  127.807241          28   \n",
       "15    3600  2.795172  2.450000  60.53011  7.162795  127.807241          28   \n",
       "16    3600  2.795172  2.500000  60.53011  7.162795  127.807241          28   \n",
       "17    3600  2.795172  2.440376  61.00000  7.162795  127.807241          28   \n",
       "18    3600  2.795172  2.440376  62.00000  7.162795  127.807241          28   \n",
       "19    3600  2.795172  2.440376  63.00000  7.162795  127.807241          28   \n",
       "20    3600  2.795172  2.440376  64.00000  7.162795  127.807241          28   \n",
       "21    3600  2.795172  2.440376  65.00000  7.162795  127.807241          28   \n",
       "\n",
       "    KILN_KLİNKER-1  TYPE_LA  28_days_pred  \n",
       "2                1        0     50.311639  \n",
       "3                1        0     49.836252  \n",
       "4                1        0     49.264998  \n",
       "5                1        0     49.264998  \n",
       "6                1        0     49.244093  \n",
       "7                1        0     49.656870  \n",
       "8                1        0     49.656870  \n",
       "9                1        0     49.656870  \n",
       "10               1        0     49.656870  \n",
       "11               1        0     49.656870  \n",
       "12               1        0     49.656870  \n",
       "13               1        0     49.656870  \n",
       "14               1        0     49.656870  \n",
       "15               1        0     49.656870  \n",
       "16               1        0     49.637138  \n",
       "17               1        0     49.655829  \n",
       "18               1        0     49.655829  \n",
       "19               1        0     49.676437  \n",
       "20               1        0     49.734679  \n",
       "21               1        0     49.711497  "
      ]
     },
     "execution_count": 179,
     "metadata": {},
     "output_type": "execute_result"
    }
   ],
   "source": [
    "scenario.head(20)"
   ]
  },
  {
   "cell_type": "code",
   "execution_count": 180,
   "metadata": {
    "pycharm": {
     "name": "#%%\n"
    }
   },
   "outputs": [],
   "source": [
    "scenario.to_excel(\"28days_pred.xlsx\")"
   ]
  },
  {
   "cell_type": "code",
   "execution_count": 181,
   "metadata": {
    "pycharm": {
     "name": "#%%\n"
    }
   },
   "outputs": [
    {
     "data": {
      "text/html": [
       "<div>\n",
       "<style scoped>\n",
       "    .dataframe tbody tr th:only-of-type {\n",
       "        vertical-align: middle;\n",
       "    }\n",
       "\n",
       "    .dataframe tbody tr th {\n",
       "        vertical-align: top;\n",
       "    }\n",
       "\n",
       "    .dataframe thead th {\n",
       "        text-align: right;\n",
       "    }\n",
       "</style>\n",
       "<table border=\"1\" class=\"dataframe\">\n",
       "  <thead>\n",
       "    <tr style=\"text-align: right;\">\n",
       "      <th></th>\n",
       "      <th>Blaine</th>\n",
       "      <th>MgO</th>\n",
       "      <th>S.M</th>\n",
       "      <th>C3S</th>\n",
       "      <th>C3A</th>\n",
       "      <th>MSO3</th>\n",
       "      <th>passed_day</th>\n",
       "      <th>KILN_KLİNKER-1</th>\n",
       "      <th>TYPE_LA</th>\n",
       "      <th>28_days_pred</th>\n",
       "    </tr>\n",
       "  </thead>\n",
       "  <tbody>\n",
       "    <tr>\n",
       "      <th>32</th>\n",
       "      <td>3600</td>\n",
       "      <td>2.5</td>\n",
       "      <td>2.415108</td>\n",
       "      <td>61.125569</td>\n",
       "      <td>6.649069</td>\n",
       "      <td>203.34136</td>\n",
       "      <td>28</td>\n",
       "      <td>0</td>\n",
       "      <td>1</td>\n",
       "      <td>52.289681</td>\n",
       "    </tr>\n",
       "  </tbody>\n",
       "</table>\n",
       "</div>"
      ],
      "text/plain": [
       "    Blaine  MgO       S.M        C3S       C3A       MSO3  passed_day  \\\n",
       "32    3600  2.5  2.415108  61.125569  6.649069  203.34136          28   \n",
       "\n",
       "    KILN_KLİNKER-1  TYPE_LA  28_days_pred  \n",
       "32               0        1     52.289681  "
      ]
     },
     "execution_count": 181,
     "metadata": {},
     "output_type": "execute_result"
    }
   ],
   "source": [
    "scenario.loc[scenario['28_days_pred']==scenario['28_days_pred'].max()]"
   ]
  },
  {
   "cell_type": "code",
   "execution_count": 182,
   "metadata": {
    "pycharm": {
     "name": "#%%\n"
    }
   },
   "outputs": [
    {
     "data": {
      "text/html": [
       "<div>\n",
       "<style scoped>\n",
       "    .dataframe tbody tr th:only-of-type {\n",
       "        vertical-align: middle;\n",
       "    }\n",
       "\n",
       "    .dataframe tbody tr th {\n",
       "        vertical-align: top;\n",
       "    }\n",
       "\n",
       "    .dataframe thead th {\n",
       "        text-align: right;\n",
       "    }\n",
       "</style>\n",
       "<table border=\"1\" class=\"dataframe\">\n",
       "  <thead>\n",
       "    <tr style=\"text-align: right;\">\n",
       "      <th></th>\n",
       "      <th>Blaine</th>\n",
       "      <th>MgO</th>\n",
       "      <th>S.M</th>\n",
       "      <th>C3S</th>\n",
       "      <th>C3A</th>\n",
       "      <th>MSO3</th>\n",
       "      <th>passed_day</th>\n",
       "      <th>KILN_KLİNKER-1</th>\n",
       "      <th>TYPE_LA</th>\n",
       "      <th>28_days_pred</th>\n",
       "    </tr>\n",
       "  </thead>\n",
       "  <tbody>\n",
       "    <tr>\n",
       "      <th>32</th>\n",
       "      <td>3600</td>\n",
       "      <td>2.50</td>\n",
       "      <td>2.415108</td>\n",
       "      <td>61.125569</td>\n",
       "      <td>6.649069</td>\n",
       "      <td>203.34136</td>\n",
       "      <td>28</td>\n",
       "      <td>0</td>\n",
       "      <td>1</td>\n",
       "      <td>52.289681</td>\n",
       "    </tr>\n",
       "    <tr>\n",
       "      <th>56</th>\n",
       "      <td>3600</td>\n",
       "      <td>2.83</td>\n",
       "      <td>2.415108</td>\n",
       "      <td>61.125569</td>\n",
       "      <td>9.000000</td>\n",
       "      <td>203.34136</td>\n",
       "      <td>28</td>\n",
       "      <td>0</td>\n",
       "      <td>1</td>\n",
       "      <td>51.806888</td>\n",
       "    </tr>\n",
       "    <tr>\n",
       "      <th>33</th>\n",
       "      <td>3600</td>\n",
       "      <td>2.70</td>\n",
       "      <td>2.415108</td>\n",
       "      <td>61.125569</td>\n",
       "      <td>6.649069</td>\n",
       "      <td>203.34136</td>\n",
       "      <td>28</td>\n",
       "      <td>0</td>\n",
       "      <td>1</td>\n",
       "      <td>51.760298</td>\n",
       "    </tr>\n",
       "    <tr>\n",
       "      <th>50</th>\n",
       "      <td>3600</td>\n",
       "      <td>2.83</td>\n",
       "      <td>2.415108</td>\n",
       "      <td>64.000000</td>\n",
       "      <td>6.649069</td>\n",
       "      <td>203.34136</td>\n",
       "      <td>28</td>\n",
       "      <td>0</td>\n",
       "      <td>1</td>\n",
       "      <td>51.737796</td>\n",
       "    </tr>\n",
       "    <tr>\n",
       "      <th>51</th>\n",
       "      <td>3600</td>\n",
       "      <td>2.83</td>\n",
       "      <td>2.415108</td>\n",
       "      <td>65.000000</td>\n",
       "      <td>6.649069</td>\n",
       "      <td>203.34136</td>\n",
       "      <td>28</td>\n",
       "      <td>0</td>\n",
       "      <td>1</td>\n",
       "      <td>51.684168</td>\n",
       "    </tr>\n",
       "    <tr>\n",
       "      <th>49</th>\n",
       "      <td>3600</td>\n",
       "      <td>2.83</td>\n",
       "      <td>2.415108</td>\n",
       "      <td>63.000000</td>\n",
       "      <td>6.649069</td>\n",
       "      <td>203.34136</td>\n",
       "      <td>28</td>\n",
       "      <td>0</td>\n",
       "      <td>1</td>\n",
       "      <td>51.679554</td>\n",
       "    </tr>\n",
       "    <tr>\n",
       "      <th>42</th>\n",
       "      <td>3600</td>\n",
       "      <td>2.83</td>\n",
       "      <td>2.300000</td>\n",
       "      <td>61.125569</td>\n",
       "      <td>6.649069</td>\n",
       "      <td>203.34136</td>\n",
       "      <td>28</td>\n",
       "      <td>0</td>\n",
       "      <td>1</td>\n",
       "      <td>51.672358</td>\n",
       "    </tr>\n",
       "    <tr>\n",
       "      <th>43</th>\n",
       "      <td>3600</td>\n",
       "      <td>2.83</td>\n",
       "      <td>2.350000</td>\n",
       "      <td>61.125569</td>\n",
       "      <td>6.649069</td>\n",
       "      <td>203.34136</td>\n",
       "      <td>28</td>\n",
       "      <td>0</td>\n",
       "      <td>1</td>\n",
       "      <td>51.672358</td>\n",
       "    </tr>\n",
       "    <tr>\n",
       "      <th>45</th>\n",
       "      <td>3600</td>\n",
       "      <td>2.83</td>\n",
       "      <td>2.450000</td>\n",
       "      <td>61.125569</td>\n",
       "      <td>6.649069</td>\n",
       "      <td>203.34136</td>\n",
       "      <td>28</td>\n",
       "      <td>0</td>\n",
       "      <td>1</td>\n",
       "      <td>51.642272</td>\n",
       "    </tr>\n",
       "    <tr>\n",
       "      <th>37</th>\n",
       "      <td>3600</td>\n",
       "      <td>2.83</td>\n",
       "      <td>2.415108</td>\n",
       "      <td>61.125569</td>\n",
       "      <td>6.649069</td>\n",
       "      <td>203.34136</td>\n",
       "      <td>28</td>\n",
       "      <td>0</td>\n",
       "      <td>1</td>\n",
       "      <td>51.642272</td>\n",
       "    </tr>\n",
       "    <tr>\n",
       "      <th>38</th>\n",
       "      <td>3600</td>\n",
       "      <td>2.83</td>\n",
       "      <td>2.415108</td>\n",
       "      <td>61.125569</td>\n",
       "      <td>6.649069</td>\n",
       "      <td>203.34136</td>\n",
       "      <td>28</td>\n",
       "      <td>0</td>\n",
       "      <td>1</td>\n",
       "      <td>51.642272</td>\n",
       "    </tr>\n",
       "    <tr>\n",
       "      <th>39</th>\n",
       "      <td>3600</td>\n",
       "      <td>2.83</td>\n",
       "      <td>2.415108</td>\n",
       "      <td>61.125569</td>\n",
       "      <td>6.649069</td>\n",
       "      <td>203.34136</td>\n",
       "      <td>28</td>\n",
       "      <td>0</td>\n",
       "      <td>1</td>\n",
       "      <td>51.642272</td>\n",
       "    </tr>\n",
       "    <tr>\n",
       "      <th>40</th>\n",
       "      <td>3600</td>\n",
       "      <td>2.83</td>\n",
       "      <td>2.415108</td>\n",
       "      <td>61.125569</td>\n",
       "      <td>6.649069</td>\n",
       "      <td>203.34136</td>\n",
       "      <td>28</td>\n",
       "      <td>0</td>\n",
       "      <td>1</td>\n",
       "      <td>51.642272</td>\n",
       "    </tr>\n",
       "    <tr>\n",
       "      <th>41</th>\n",
       "      <td>3600</td>\n",
       "      <td>2.83</td>\n",
       "      <td>2.415108</td>\n",
       "      <td>61.125569</td>\n",
       "      <td>6.649069</td>\n",
       "      <td>203.34136</td>\n",
       "      <td>28</td>\n",
       "      <td>0</td>\n",
       "      <td>1</td>\n",
       "      <td>51.642272</td>\n",
       "    </tr>\n",
       "    <tr>\n",
       "      <th>44</th>\n",
       "      <td>3600</td>\n",
       "      <td>2.83</td>\n",
       "      <td>2.400000</td>\n",
       "      <td>61.125569</td>\n",
       "      <td>6.649069</td>\n",
       "      <td>203.34136</td>\n",
       "      <td>28</td>\n",
       "      <td>0</td>\n",
       "      <td>1</td>\n",
       "      <td>51.642272</td>\n",
       "    </tr>\n",
       "    <tr>\n",
       "      <th>65</th>\n",
       "      <td>3600</td>\n",
       "      <td>2.83</td>\n",
       "      <td>2.415108</td>\n",
       "      <td>61.125569</td>\n",
       "      <td>6.649069</td>\n",
       "      <td>203.34136</td>\n",
       "      <td>28</td>\n",
       "      <td>0</td>\n",
       "      <td>1</td>\n",
       "      <td>51.642272</td>\n",
       "    </tr>\n",
       "    <tr>\n",
       "      <th>48</th>\n",
       "      <td>3600</td>\n",
       "      <td>2.83</td>\n",
       "      <td>2.415108</td>\n",
       "      <td>62.000000</td>\n",
       "      <td>6.649069</td>\n",
       "      <td>203.34136</td>\n",
       "      <td>28</td>\n",
       "      <td>0</td>\n",
       "      <td>1</td>\n",
       "      <td>51.642272</td>\n",
       "    </tr>\n",
       "    <tr>\n",
       "      <th>52</th>\n",
       "      <td>3600</td>\n",
       "      <td>2.83</td>\n",
       "      <td>2.415108</td>\n",
       "      <td>61.125569</td>\n",
       "      <td>6.000000</td>\n",
       "      <td>203.34136</td>\n",
       "      <td>28</td>\n",
       "      <td>0</td>\n",
       "      <td>1</td>\n",
       "      <td>51.642272</td>\n",
       "    </tr>\n",
       "    <tr>\n",
       "      <th>53</th>\n",
       "      <td>3600</td>\n",
       "      <td>2.83</td>\n",
       "      <td>2.415108</td>\n",
       "      <td>61.125569</td>\n",
       "      <td>6.500000</td>\n",
       "      <td>203.34136</td>\n",
       "      <td>28</td>\n",
       "      <td>0</td>\n",
       "      <td>1</td>\n",
       "      <td>51.642272</td>\n",
       "    </tr>\n",
       "    <tr>\n",
       "      <th>54</th>\n",
       "      <td>3600</td>\n",
       "      <td>2.83</td>\n",
       "      <td>2.415108</td>\n",
       "      <td>61.125569</td>\n",
       "      <td>7.000000</td>\n",
       "      <td>203.34136</td>\n",
       "      <td>28</td>\n",
       "      <td>0</td>\n",
       "      <td>1</td>\n",
       "      <td>51.642272</td>\n",
       "    </tr>\n",
       "  </tbody>\n",
       "</table>\n",
       "</div>"
      ],
      "text/plain": [
       "    Blaine   MgO       S.M        C3S       C3A       MSO3  passed_day  \\\n",
       "32    3600  2.50  2.415108  61.125569  6.649069  203.34136          28   \n",
       "56    3600  2.83  2.415108  61.125569  9.000000  203.34136          28   \n",
       "33    3600  2.70  2.415108  61.125569  6.649069  203.34136          28   \n",
       "50    3600  2.83  2.415108  64.000000  6.649069  203.34136          28   \n",
       "51    3600  2.83  2.415108  65.000000  6.649069  203.34136          28   \n",
       "49    3600  2.83  2.415108  63.000000  6.649069  203.34136          28   \n",
       "42    3600  2.83  2.300000  61.125569  6.649069  203.34136          28   \n",
       "43    3600  2.83  2.350000  61.125569  6.649069  203.34136          28   \n",
       "45    3600  2.83  2.450000  61.125569  6.649069  203.34136          28   \n",
       "37    3600  2.83  2.415108  61.125569  6.649069  203.34136          28   \n",
       "38    3600  2.83  2.415108  61.125569  6.649069  203.34136          28   \n",
       "39    3600  2.83  2.415108  61.125569  6.649069  203.34136          28   \n",
       "40    3600  2.83  2.415108  61.125569  6.649069  203.34136          28   \n",
       "41    3600  2.83  2.415108  61.125569  6.649069  203.34136          28   \n",
       "44    3600  2.83  2.400000  61.125569  6.649069  203.34136          28   \n",
       "65    3600  2.83  2.415108  61.125569  6.649069  203.34136          28   \n",
       "48    3600  2.83  2.415108  62.000000  6.649069  203.34136          28   \n",
       "52    3600  2.83  2.415108  61.125569  6.000000  203.34136          28   \n",
       "53    3600  2.83  2.415108  61.125569  6.500000  203.34136          28   \n",
       "54    3600  2.83  2.415108  61.125569  7.000000  203.34136          28   \n",
       "\n",
       "    KILN_KLİNKER-1  TYPE_LA  28_days_pred  \n",
       "32               0        1     52.289681  \n",
       "56               0        1     51.806888  \n",
       "33               0        1     51.760298  \n",
       "50               0        1     51.737796  \n",
       "51               0        1     51.684168  \n",
       "49               0        1     51.679554  \n",
       "42               0        1     51.672358  \n",
       "43               0        1     51.672358  \n",
       "45               0        1     51.642272  \n",
       "37               0        1     51.642272  \n",
       "38               0        1     51.642272  \n",
       "39               0        1     51.642272  \n",
       "40               0        1     51.642272  \n",
       "41               0        1     51.642272  \n",
       "44               0        1     51.642272  \n",
       "65               0        1     51.642272  \n",
       "48               0        1     51.642272  \n",
       "52               0        1     51.642272  \n",
       "53               0        1     51.642272  \n",
       "54               0        1     51.642272  "
      ]
     },
     "execution_count": 182,
     "metadata": {},
     "output_type": "execute_result"
    }
   ],
   "source": [
    "scenario.sort_values(by=['28_days_pred'],ascending=False).head(20)"
   ]
  }
 ],
 "metadata": {
  "kernelspec": {
   "display_name": "Python 3 (ipykernel)",
   "language": "python",
   "name": "python3"
  },
  "language_info": {
   "codemirror_mode": {
    "name": "ipython",
    "version": 3
   },
   "file_extension": ".py",
   "mimetype": "text/x-python",
   "name": "python",
   "nbconvert_exporter": "python",
   "pygments_lexer": "ipython3",
   "version": "3.9.5"
  }
 },
 "nbformat": 4,
 "nbformat_minor": 1
}