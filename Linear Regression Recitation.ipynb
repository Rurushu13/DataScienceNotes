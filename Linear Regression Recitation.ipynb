{
 "cells": [
  {
   "cell_type": "code",
   "execution_count": 1,
   "metadata": {},
   "outputs": [],
   "source": [
    "#dependancies\n",
    "import pandas as pd\n",
    "import numpy as np\n",
    "from matplotlib import pyplot as plt\n",
    "from sklearn import linear_model as lin \n",
    "from sklearn import preprocessing as pre\n",
    "from sklearn import metrics as met\n",
    "from sklearn import model_selection as mod\n",
    "from sklearn import pipeline as pip\n",
    "from sklearn import datasets as dat"
   ]
  },
  {
   "cell_type": "code",
   "execution_count": 11,
   "metadata": {},
   "outputs": [],
   "source": [
    "#plot learning curve function\n",
    "def plotLearningCurve(est, X_train, y_train, X_test, y_test, n_iter=10, minY=0,maxY=1):\n",
    "    x_values = [] #number of training samples\n",
    "    y_values_train = []\n",
    "    y_values_test = []\n",
    "\n",
    "    for i in np.linspace(10,len(X_train),n_iter): #increase training sizes by every iter\n",
    "        i=int(i)\n",
    "        #select a subset of training data\n",
    "        X_train_temp = X_train[:i]\n",
    "        y_train_temp = y_train[:i]\n",
    "        #create the model\n",
    "        est.fit(X_train_temp, y_train_temp)\n",
    "        #evaluate train set\n",
    "        y_pred_train=est.predict(X_train_temp)\n",
    "        train_score = met.mean_squared_error(y_train_temp,y_pred_train,squared=False)\n",
    "        #evaluate test set\n",
    "        y_pred_test=est.predict(X_test)\n",
    "        test_score = met.mean_squared_error(y_test,y_pred_test,squared=False)\n",
    "        #populate lists\n",
    "        y_values_train.append(train_score)\n",
    "        y_values_test.append(test_score)\n",
    "        x_values.append(i)\n",
    "    plt.figure(figsize=(10,6))\n",
    "    plt.plot(x_values,y_values_train,label=\"Train\")\n",
    "    plt.plot(x_values,y_values_test, label=\"Test\")\n",
    "    plt.legend()\n",
    "    plt.ylabel(\"RMSE\")\n",
    "    plt.xlabel(\"# of training samples\")\n",
    "    plt.grid(True)\n",
    "    plt.ylim(minY,maxY)\n",
    "    plt.show()\n",
    "\n"
   ]
  },
  {
   "cell_type": "code",
   "execution_count": 2,
   "metadata": {},
   "outputs": [],
   "source": [
    "#load the data\n",
    "data = dat.load_diabetes()\n",
    "X = data.data\n",
    "y = data.target\n"
   ]
  },
  {
   "cell_type": "code",
   "execution_count": 3,
   "metadata": {},
   "outputs": [],
   "source": [
    "#split the data \n",
    "X_train,X_test,y_train,y_test = mod.train_test_split(X,y,random_state=42)"
   ]
  },
  {
   "cell_type": "code",
   "execution_count": 9,
   "metadata": {},
   "outputs": [
    {
     "data": {
      "text/plain": [
       "Pipeline(steps=[('scaler', StandardScaler()),\n",
       "                ('sgd', SGDRegressor(random_state=42))])"
      ]
     },
     "execution_count": 9,
     "metadata": {},
     "output_type": "execute_result"
    }
   ],
   "source": [
    "#create the pipeline\n",
    "pipe = pip.Pipeline([\n",
    "    (\"scaler\", pre.StandardScaler()), #anything besides last one needs to have transform and fit method\n",
    "    (\"sgd\", lin.SGDRegressor(random_state=42)), #last one needs to have fit method\n",
    "])\n",
    "\n",
    "pipe.fit(X_train,y_train.ravel())"
   ]
  },
  {
   "cell_type": "code",
   "execution_count": 22,
   "metadata": {},
   "outputs": [],
   "source": [
    "y_predict = pipe.predict(X_test)"
   ]
  },
  {
   "cell_type": "code",
   "execution_count": 27,
   "metadata": {},
   "outputs": [
    {
     "data": {
      "text/plain": [
       "53.38270482378061"
      ]
     },
     "execution_count": 27,
     "metadata": {},
     "output_type": "execute_result"
    }
   ],
   "source": [
    "#test the prediction \n",
    "met.mean_squared_error(y_test,y_predict,squared=False)"
   ]
  },
  {
   "cell_type": "code",
   "execution_count": 20,
   "metadata": {},
   "outputs": [
    {
     "data": {
      "text/plain": [
       "56.43451900121812"
      ]
     },
     "execution_count": 20,
     "metadata": {},
     "output_type": "execute_result"
    }
   ],
   "source": [
    "# 3 fold cross validation\n",
    "mod.cross_val_score(pipe, X_train, y_train.ravel(), \n",
    "                    cv=3, scoring=\"neg_root_mean_squared_error\").mean()*-1 \n",
    "\n"
   ]
  },
  {
   "cell_type": "code",
   "execution_count": 12,
   "metadata": {},
   "outputs": [
    {
     "data": {
      "text/plain": [
       "LinearRegression()"
      ]
     },
     "execution_count": 12,
     "metadata": {},
     "output_type": "execute_result"
    }
   ],
   "source": [
    "#linear regression\n",
    "lin_reg = lin.LinearRegression()\n",
    "lin_reg.fit(X,y)"
   ]
  },
  {
   "cell_type": "code",
   "execution_count": 31,
   "metadata": {},
   "outputs": [],
   "source": [
    "lin_reg_y_predict = lin_reg.predict(X_test)"
   ]
  },
  {
   "cell_type": "code",
   "execution_count": 32,
   "metadata": {},
   "outputs": [
    {
     "data": {
      "text/plain": [
       "56.341238094702256"
      ]
     },
     "execution_count": 32,
     "metadata": {},
     "output_type": "execute_result"
    }
   ],
   "source": [
    "# lin reg 3 fold cross validation\n",
    "mod.cross_val_score(lin_reg, X_train, y_train.ravel(), \n",
    "                    cv=3, scoring=\"neg_root_mean_squared_error\").mean()*-1 "
   ]
  },
  {
   "cell_type": "code",
   "execution_count": 33,
   "metadata": {},
   "outputs": [
    {
     "data": {
      "text/plain": [
       "53.36942296795932"
      ]
     },
     "execution_count": 33,
     "metadata": {},
     "output_type": "execute_result"
    }
   ],
   "source": [
    "#lin reg predict\n",
    "met.mean_squared_error(y_test,lin_reg_y_predict,squared=False)"
   ]
  },
  {
   "cell_type": "code",
   "execution_count": 24,
   "metadata": {},
   "outputs": [
    {
     "data": {
      "image/png": "[encoded data removed]",
      "text/plain": [
       "<Figure size 720x432 with 1 Axes>"
      ]
     },
     "metadata": {
      "needs_background": "light"
     },
     "output_type": "display_data"
    }
   ],
   "source": [
    "plotLearningCurve(lin_reg, X_train, y_train.ravel(), X_test, y_test.ravel(), n_iter=10,maxY=100)"
   ]
  },
  {
   "cell_type": "code",
   "execution_count": 25,
   "metadata": {},
   "outputs": [
    {
     "data": {
      "image/png": "[encoded data removed]",
      "text/plain": [
       "<Figure size 720x432 with 1 Axes>"
      ]
     },
     "metadata": {
      "needs_background": "light"
     },
     "output_type": "display_data"
    }
   ],
   "source": [
    "pipe2 = pip.Pipeline([\n",
    "    (\"scaler\", pre.StandardScaler()), #anything besides last one needs to have transform and fit method\n",
    "    (\"sgd\", lin.SGDRegressor(alpha=10,random_state=42)), #last one needs to have fit method\n",
    "])\n",
    "\n",
    "pipe2.fit(X_train,y_train.ravel())\n",
    "plotLearningCurve(pipe2, X_train, y_train.ravel(), X_test, y_test.ravel(), n_iter=10,maxY=100)\n"
   ]
  },
  {
   "cell_type": "code",
   "execution_count": 34,
   "metadata": {},
   "outputs": [
    {
     "data": {
      "text/plain": [
       "70.98862272353186"
      ]
     },
     "execution_count": 34,
     "metadata": {},
     "output_type": "execute_result"
    }
   ],
   "source": [
    "#  alpha = 10 3 fold cross validation\n",
    "mod.cross_val_score(pipe2, X_train, y_train.ravel(), \n",
    "                    cv=3, scoring=\"neg_root_mean_squared_error\").mean()*-1 "
   ]
  },
  {
   "cell_type": "code",
   "execution_count": 35,
   "metadata": {},
   "outputs": [],
   "source": [
    "alpha10_y_predict = pipe2.predict(X_test)"
   ]
  },
  {
   "cell_type": "code",
   "execution_count": 36,
   "metadata": {},
   "outputs": [
    {
     "data": {
      "text/plain": [
       "67.92850761031465"
      ]
     },
     "execution_count": 36,
     "metadata": {},
     "output_type": "execute_result"
    }
   ],
   "source": [
    "# alpha = 10 model fit rmse\n",
    "met.mean_squared_error(y_test,alpha10_y_predict,squared=False)"
   ]
  },
  {
   "cell_type": "code",
   "execution_count": 42,
   "metadata": {},
   "outputs": [
    {
     "data": {
      "text/html": [
       "<div>\n",
       "<style scoped>\n",
       "    .dataframe tbody tr th:only-of-type {\n",
       "        vertical-align: middle;\n",
       "    }\n",
       "\n",
       "    .dataframe tbody tr th {\n",
       "        vertical-align: top;\n",
       "    }\n",
       "\n",
       "    .dataframe thead th {\n",
       "        text-align: right;\n",
       "    }\n",
       "</style>\n",
       "<table border=\"1\" class=\"dataframe\">\n",
       "  <thead>\n",
       "    <tr style=\"text-align: right;\">\n",
       "      <th></th>\n",
       "      <th>mean_fit_time</th>\n",
       "      <th>std_fit_time</th>\n",
       "      <th>mean_score_time</th>\n",
       "      <th>std_score_time</th>\n",
       "      <th>param_sgd__alpha</th>\n",
       "      <th>param_sgd__max_iter</th>\n",
       "      <th>param_sgd__penalty</th>\n",
       "      <th>params</th>\n",
       "      <th>split0_test_score</th>\n",
       "      <th>split1_test_score</th>\n",
       "      <th>split2_test_score</th>\n",
       "      <th>mean_test_score</th>\n",
       "      <th>std_test_score</th>\n",
       "      <th>rank_test_score</th>\n",
       "    </tr>\n",
       "  </thead>\n",
       "  <tbody>\n",
       "    <tr>\n",
       "      <th>0</th>\n",
       "      <td>0.002219</td>\n",
       "      <td>5.665388e-04</td>\n",
       "      <td>0.001118</td>\n",
       "      <td>0.000171</td>\n",
       "      <td>0.001</td>\n",
       "      <td>1000</td>\n",
       "      <td>l1</td>\n",
       "      <td>{'sgd__alpha': 0.001, 'sgd__max_iter': 1000, '...</td>\n",
       "      <td>-56.756817</td>\n",
       "      <td>-52.480077</td>\n",
       "      <td>-60.067279</td>\n",
       "      <td>-56.434724</td>\n",
       "      <td>3.105824</td>\n",
       "      <td>10</td>\n",
       "    </tr>\n",
       "    <tr>\n",
       "      <th>1</th>\n",
       "      <td>0.002335</td>\n",
       "      <td>4.705277e-04</td>\n",
       "      <td>0.000334</td>\n",
       "      <td>0.000472</td>\n",
       "      <td>0.001</td>\n",
       "      <td>1000</td>\n",
       "      <td>l2</td>\n",
       "      <td>{'sgd__alpha': 0.001, 'sgd__max_iter': 1000, '...</td>\n",
       "      <td>-56.751027</td>\n",
       "      <td>-52.478735</td>\n",
       "      <td>-60.062768</td>\n",
       "      <td>-56.430843</td>\n",
       "      <td>3.104435</td>\n",
       "      <td>7</td>\n",
       "    </tr>\n",
       "    <tr>\n",
       "      <th>2</th>\n",
       "      <td>0.002339</td>\n",
       "      <td>4.669273e-04</td>\n",
       "      <td>0.000000</td>\n",
       "      <td>0.000000</td>\n",
       "      <td>0.001</td>\n",
       "      <td>10000</td>\n",
       "      <td>l1</td>\n",
       "      <td>{'sgd__alpha': 0.001, 'sgd__max_iter': 10000, ...</td>\n",
       "      <td>-56.756817</td>\n",
       "      <td>-52.480077</td>\n",
       "      <td>-60.067279</td>\n",
       "      <td>-56.434724</td>\n",
       "      <td>3.105824</td>\n",
       "      <td>10</td>\n",
       "    </tr>\n",
       "    <tr>\n",
       "      <th>3</th>\n",
       "      <td>0.002340</td>\n",
       "      <td>4.745831e-04</td>\n",
       "      <td>0.000334</td>\n",
       "      <td>0.000472</td>\n",
       "      <td>0.001</td>\n",
       "      <td>10000</td>\n",
       "      <td>l2</td>\n",
       "      <td>{'sgd__alpha': 0.001, 'sgd__max_iter': 10000, ...</td>\n",
       "      <td>-56.751027</td>\n",
       "      <td>-52.478735</td>\n",
       "      <td>-60.062768</td>\n",
       "      <td>-56.430843</td>\n",
       "      <td>3.104435</td>\n",
       "      <td>7</td>\n",
       "    </tr>\n",
       "    <tr>\n",
       "      <th>4</th>\n",
       "      <td>0.002333</td>\n",
       "      <td>4.740708e-04</td>\n",
       "      <td>0.000330</td>\n",
       "      <td>0.000467</td>\n",
       "      <td>0.001</td>\n",
       "      <td>100000</td>\n",
       "      <td>l1</td>\n",
       "      <td>{'sgd__alpha': 0.001, 'sgd__max_iter': 100000,...</td>\n",
       "      <td>-56.756817</td>\n",
       "      <td>-52.480077</td>\n",
       "      <td>-60.067279</td>\n",
       "      <td>-56.434724</td>\n",
       "      <td>3.105824</td>\n",
       "      <td>10</td>\n",
       "    </tr>\n",
       "    <tr>\n",
       "      <th>5</th>\n",
       "      <td>0.001991</td>\n",
       "      <td>4.112672e-06</td>\n",
       "      <td>0.000334</td>\n",
       "      <td>0.000472</td>\n",
       "      <td>0.001</td>\n",
       "      <td>100000</td>\n",
       "      <td>l2</td>\n",
       "      <td>{'sgd__alpha': 0.001, 'sgd__max_iter': 100000,...</td>\n",
       "      <td>-56.751027</td>\n",
       "      <td>-52.478735</td>\n",
       "      <td>-60.062768</td>\n",
       "      <td>-56.430843</td>\n",
       "      <td>3.104435</td>\n",
       "      <td>7</td>\n",
       "    </tr>\n",
       "    <tr>\n",
       "      <th>6</th>\n",
       "      <td>0.002334</td>\n",
       "      <td>4.704153e-04</td>\n",
       "      <td>0.000334</td>\n",
       "      <td>0.000472</td>\n",
       "      <td>0.01</td>\n",
       "      <td>1000</td>\n",
       "      <td>l1</td>\n",
       "      <td>{'sgd__alpha': 0.01, 'sgd__max_iter': 1000, 's...</td>\n",
       "      <td>-56.756161</td>\n",
       "      <td>-52.549924</td>\n",
       "      <td>-60.062746</td>\n",
       "      <td>-56.456277</td>\n",
       "      <td>3.074418</td>\n",
       "      <td>16</td>\n",
       "    </tr>\n",
       "    <tr>\n",
       "      <th>7</th>\n",
       "      <td>0.002000</td>\n",
       "      <td>6.257699e-07</td>\n",
       "      <td>0.000334</td>\n",
       "      <td>0.000472</td>\n",
       "      <td>0.01</td>\n",
       "      <td>1000</td>\n",
       "      <td>l2</td>\n",
       "      <td>{'sgd__alpha': 0.01, 'sgd__max_iter': 1000, 's...</td>\n",
       "      <td>-56.700539</td>\n",
       "      <td>-52.467548</td>\n",
       "      <td>-60.019650</td>\n",
       "      <td>-56.395912</td>\n",
       "      <td>3.090648</td>\n",
       "      <td>4</td>\n",
       "    </tr>\n",
       "    <tr>\n",
       "      <th>8</th>\n",
       "      <td>0.002003</td>\n",
       "      <td>3.320787e-06</td>\n",
       "      <td>0.000334</td>\n",
       "      <td>0.000472</td>\n",
       "      <td>0.01</td>\n",
       "      <td>10000</td>\n",
       "      <td>l1</td>\n",
       "      <td>{'sgd__alpha': 0.01, 'sgd__max_iter': 10000, '...</td>\n",
       "      <td>-56.756161</td>\n",
       "      <td>-52.549924</td>\n",
       "      <td>-60.062746</td>\n",
       "      <td>-56.456277</td>\n",
       "      <td>3.074418</td>\n",
       "      <td>16</td>\n",
       "    </tr>\n",
       "    <tr>\n",
       "      <th>9</th>\n",
       "      <td>0.002671</td>\n",
       "      <td>4.813270e-04</td>\n",
       "      <td>0.000334</td>\n",
       "      <td>0.000472</td>\n",
       "      <td>0.01</td>\n",
       "      <td>10000</td>\n",
       "      <td>l2</td>\n",
       "      <td>{'sgd__alpha': 0.01, 'sgd__max_iter': 10000, '...</td>\n",
       "      <td>-56.700539</td>\n",
       "      <td>-52.467548</td>\n",
       "      <td>-60.019650</td>\n",
       "      <td>-56.395912</td>\n",
       "      <td>3.090648</td>\n",
       "      <td>4</td>\n",
       "    </tr>\n",
       "    <tr>\n",
       "      <th>10</th>\n",
       "      <td>0.002004</td>\n",
       "      <td>5.257236e-06</td>\n",
       "      <td>0.000997</td>\n",
       "      <td>0.000006</td>\n",
       "      <td>0.01</td>\n",
       "      <td>100000</td>\n",
       "      <td>l1</td>\n",
       "      <td>{'sgd__alpha': 0.01, 'sgd__max_iter': 100000, ...</td>\n",
       "      <td>-56.756161</td>\n",
       "      <td>-52.549924</td>\n",
       "      <td>-60.062746</td>\n",
       "      <td>-56.456277</td>\n",
       "      <td>3.074418</td>\n",
       "      <td>16</td>\n",
       "    </tr>\n",
       "    <tr>\n",
       "      <th>11</th>\n",
       "      <td>0.002333</td>\n",
       "      <td>4.671562e-04</td>\n",
       "      <td>0.000000</td>\n",
       "      <td>0.000000</td>\n",
       "      <td>0.01</td>\n",
       "      <td>100000</td>\n",
       "      <td>l2</td>\n",
       "      <td>{'sgd__alpha': 0.01, 'sgd__max_iter': 100000, ...</td>\n",
       "      <td>-56.700539</td>\n",
       "      <td>-52.467548</td>\n",
       "      <td>-60.019650</td>\n",
       "      <td>-56.395912</td>\n",
       "      <td>3.090648</td>\n",
       "      <td>4</td>\n",
       "    </tr>\n",
       "    <tr>\n",
       "      <th>12</th>\n",
       "      <td>0.002334</td>\n",
       "      <td>4.658866e-04</td>\n",
       "      <td>0.001003</td>\n",
       "      <td>0.000003</td>\n",
       "      <td>0.1</td>\n",
       "      <td>1000</td>\n",
       "      <td>l1</td>\n",
       "      <td>{'sgd__alpha': 0.1, 'sgd__max_iter': 1000, 'sg...</td>\n",
       "      <td>-56.750630</td>\n",
       "      <td>-52.537660</td>\n",
       "      <td>-60.018123</td>\n",
       "      <td>-56.435471</td>\n",
       "      <td>3.062006</td>\n",
       "      <td>13</td>\n",
       "    </tr>\n",
       "    <tr>\n",
       "      <th>13</th>\n",
       "      <td>0.001664</td>\n",
       "      <td>4.758099e-04</td>\n",
       "      <td>0.000000</td>\n",
       "      <td>0.000000</td>\n",
       "      <td>0.1</td>\n",
       "      <td>1000</td>\n",
       "      <td>l2</td>\n",
       "      <td>{'sgd__alpha': 0.1, 'sgd__max_iter': 1000, 'sg...</td>\n",
       "      <td>-56.350904</td>\n",
       "      <td>-52.486504</td>\n",
       "      <td>-59.792703</td>\n",
       "      <td>-56.210037</td>\n",
       "      <td>2.984406</td>\n",
       "      <td>1</td>\n",
       "    </tr>\n",
       "    <tr>\n",
       "      <th>14</th>\n",
       "      <td>0.002671</td>\n",
       "      <td>4.692325e-04</td>\n",
       "      <td>0.000000</td>\n",
       "      <td>0.000000</td>\n",
       "      <td>0.1</td>\n",
       "      <td>10000</td>\n",
       "      <td>l1</td>\n",
       "      <td>{'sgd__alpha': 0.1, 'sgd__max_iter': 10000, 's...</td>\n",
       "      <td>-56.750630</td>\n",
       "      <td>-52.537660</td>\n",
       "      <td>-60.018123</td>\n",
       "      <td>-56.435471</td>\n",
       "      <td>3.062006</td>\n",
       "      <td>13</td>\n",
       "    </tr>\n",
       "    <tr>\n",
       "      <th>15</th>\n",
       "      <td>0.001333</td>\n",
       "      <td>4.662610e-04</td>\n",
       "      <td>0.000330</td>\n",
       "      <td>0.000466</td>\n",
       "      <td>0.1</td>\n",
       "      <td>10000</td>\n",
       "      <td>l2</td>\n",
       "      <td>{'sgd__alpha': 0.1, 'sgd__max_iter': 10000, 's...</td>\n",
       "      <td>-56.350904</td>\n",
       "      <td>-52.486504</td>\n",
       "      <td>-59.792703</td>\n",
       "      <td>-56.210037</td>\n",
       "      <td>2.984406</td>\n",
       "      <td>1</td>\n",
       "    </tr>\n",
       "    <tr>\n",
       "      <th>16</th>\n",
       "      <td>0.002331</td>\n",
       "      <td>4.733377e-04</td>\n",
       "      <td>0.000333</td>\n",
       "      <td>0.000471</td>\n",
       "      <td>0.1</td>\n",
       "      <td>100000</td>\n",
       "      <td>l1</td>\n",
       "      <td>{'sgd__alpha': 0.1, 'sgd__max_iter': 100000, '...</td>\n",
       "      <td>-56.750630</td>\n",
       "      <td>-52.537660</td>\n",
       "      <td>-60.018123</td>\n",
       "      <td>-56.435471</td>\n",
       "      <td>3.062006</td>\n",
       "      <td>13</td>\n",
       "    </tr>\n",
       "    <tr>\n",
       "      <th>17</th>\n",
       "      <td>0.001324</td>\n",
       "      <td>4.694607e-04</td>\n",
       "      <td>0.000671</td>\n",
       "      <td>0.000475</td>\n",
       "      <td>0.1</td>\n",
       "      <td>100000</td>\n",
       "      <td>l2</td>\n",
       "      <td>{'sgd__alpha': 0.1, 'sgd__max_iter': 100000, '...</td>\n",
       "      <td>-56.350904</td>\n",
       "      <td>-52.486504</td>\n",
       "      <td>-59.792703</td>\n",
       "      <td>-56.210037</td>\n",
       "      <td>2.984406</td>\n",
       "      <td>1</td>\n",
       "    </tr>\n",
       "  </tbody>\n",
       "</table>\n",
       "</div>"
      ],
      "text/plain": [
       "    mean_fit_time  std_fit_time  mean_score_time  std_score_time  \\\n",
       "0        0.002219  5.665388e-04         0.001118        0.000171   \n",
       "1        0.002335  4.705277e-04         0.000334        0.000472   \n",
       "2        0.002339  4.669273e-04         0.000000        0.000000   \n",
       "3        0.002340  4.745831e-04         0.000334        0.000472   \n",
       "4        0.002333  4.740708e-04         0.000330        0.000467   \n",
       "5        0.001991  4.112672e-06         0.000334        0.000472   \n",
       "6        0.002334  4.704153e-04         0.000334        0.000472   \n",
       "7        0.002000  6.257699e-07         0.000334        0.000472   \n",
       "8        0.002003  3.320787e-06         0.000334        0.000472   \n",
       "9        0.002671  4.813270e-04         0.000334        0.000472   \n",
       "10       0.002004  5.257236e-06         0.000997        0.000006   \n",
       "11       0.002333  4.671562e-04         0.000000        0.000000   \n",
       "12       0.002334  4.658866e-04         0.001003        0.000003   \n",
       "13       0.001664  4.758099e-04         0.000000        0.000000   \n",
       "14       0.002671  4.692325e-04         0.000000        0.000000   \n",
       "15       0.001333  4.662610e-04         0.000330        0.000466   \n",
       "16       0.002331  4.733377e-04         0.000333        0.000471   \n",
       "17       0.001324  4.694607e-04         0.000671        0.000475   \n",
       "\n",
       "   param_sgd__alpha param_sgd__max_iter param_sgd__penalty  \\\n",
       "0             0.001                1000                 l1   \n",
       "1             0.001                1000                 l2   \n",
       "2             0.001               10000                 l1   \n",
       "3             0.001               10000                 l2   \n",
       "4             0.001              100000                 l1   \n",
       "5             0.001              100000                 l2   \n",
       "6              0.01                1000                 l1   \n",
       "7              0.01                1000                 l2   \n",
       "8              0.01               10000                 l1   \n",
       "9              0.01               10000                 l2   \n",
       "10             0.01              100000                 l1   \n",
       "11             0.01              100000                 l2   \n",
       "12              0.1                1000                 l1   \n",
       "13              0.1                1000                 l2   \n",
       "14              0.1               10000                 l1   \n",
       "15              0.1               10000                 l2   \n",
       "16              0.1              100000                 l1   \n",
       "17              0.1              100000                 l2   \n",
       "\n",
       "                                               params  split0_test_score  \\\n",
       "0   {'sgd__alpha': 0.001, 'sgd__max_iter': 1000, '...         -56.756817   \n",
       "1   {'sgd__alpha': 0.001, 'sgd__max_iter': 1000, '...         -56.751027   \n",
       "2   {'sgd__alpha': 0.001, 'sgd__max_iter': 10000, ...         -56.756817   \n",
       "3   {'sgd__alpha': 0.001, 'sgd__max_iter': 10000, ...         -56.751027   \n",
       "4   {'sgd__alpha': 0.001, 'sgd__max_iter': 100000,...         -56.756817   \n",
       "5   {'sgd__alpha': 0.001, 'sgd__max_iter': 100000,...         -56.751027   \n",
       "6   {'sgd__alpha': 0.01, 'sgd__max_iter': 1000, 's...         -56.756161   \n",
       "7   {'sgd__alpha': 0.01, 'sgd__max_iter': 1000, 's...         -56.700539   \n",
       "8   {'sgd__alpha': 0.01, 'sgd__max_iter': 10000, '...         -56.756161   \n",
       "9   {'sgd__alpha': 0.01, 'sgd__max_iter': 10000, '...         -56.700539   \n",
       "10  {'sgd__alpha': 0.01, 'sgd__max_iter': 100000, ...         -56.756161   \n",
       "11  {'sgd__alpha': 0.01, 'sgd__max_iter': 100000, ...         -56.700539   \n",
       "12  {'sgd__alpha': 0.1, 'sgd__max_iter': 1000, 'sg...         -56.750630   \n",
       "13  {'sgd__alpha': 0.1, 'sgd__max_iter': 1000, 'sg...         -56.350904   \n",
       "14  {'sgd__alpha': 0.1, 'sgd__max_iter': 10000, 's...         -56.750630   \n",
       "15  {'sgd__alpha': 0.1, 'sgd__max_iter': 10000, 's...         -56.350904   \n",
       "16  {'sgd__alpha': 0.1, 'sgd__max_iter': 100000, '...         -56.750630   \n",
       "17  {'sgd__alpha': 0.1, 'sgd__max_iter': 100000, '...         -56.350904   \n",
       "\n",
       "    split1_test_score  split2_test_score  mean_test_score  std_test_score  \\\n",
       "0          -52.480077         -60.067279       -56.434724        3.105824   \n",
       "1          -52.478735         -60.062768       -56.430843        3.104435   \n",
       "2          -52.480077         -60.067279       -56.434724        3.105824   \n",
       "3          -52.478735         -60.062768       -56.430843        3.104435   \n",
       "4          -52.480077         -60.067279       -56.434724        3.105824   \n",
       "5          -52.478735         -60.062768       -56.430843        3.104435   \n",
       "6          -52.549924         -60.062746       -56.456277        3.074418   \n",
       "7          -52.467548         -60.019650       -56.395912        3.090648   \n",
       "8          -52.549924         -60.062746       -56.456277        3.074418   \n",
       "9          -52.467548         -60.019650       -56.395912        3.090648   \n",
       "10         -52.549924         -60.062746       -56.456277        3.074418   \n",
       "11         -52.467548         -60.019650       -56.395912        3.090648   \n",
       "12         -52.537660         -60.018123       -56.435471        3.062006   \n",
       "13         -52.486504         -59.792703       -56.210037        2.984406   \n",
       "14         -52.537660         -60.018123       -56.435471        3.062006   \n",
       "15         -52.486504         -59.792703       -56.210037        2.984406   \n",
       "16         -52.537660         -60.018123       -56.435471        3.062006   \n",
       "17         -52.486504         -59.792703       -56.210037        2.984406   \n",
       "\n",
       "    rank_test_score  \n",
       "0                10  \n",
       "1                 7  \n",
       "2                10  \n",
       "3                 7  \n",
       "4                10  \n",
       "5                 7  \n",
       "6                16  \n",
       "7                 4  \n",
       "8                16  \n",
       "9                 4  \n",
       "10               16  \n",
       "11                4  \n",
       "12               13  \n",
       "13                1  \n",
       "14               13  \n",
       "15                1  \n",
       "16               13  \n",
       "17                1  "
      ]
     },
     "execution_count": 42,
     "metadata": {},
     "output_type": "execute_result"
    }
   ],
   "source": [
    "#gridsearch\n",
    "myParams = {\n",
    "    \"sgd__alpha\":[0.001,0.01,0.1],\n",
    "    \"sgd__penalty\":[\"l1\",\"l2\"],\n",
    "    \"sgd__max_iter\":[1000,10000,100000]\n",
    "}\n",
    "grid = mod.GridSearchCV(pipe, myParams, scoring=\"neg_root_mean_squared_error\", cv=3)\n",
    "grid.fit(X_train,y_train.ravel())\n",
    "pd.DataFrame(grid.cv_results_)"
   ]
  },
  {
   "cell_type": "code",
   "execution_count": null,
   "metadata": {},
   "outputs": [],
   "source": [
    "# best fit is {'sgd__alpha': 0.1, 'sgd__penalty': 'l2'}\t"
   ]
  },
  {
   "cell_type": "code",
   "execution_count": 43,
   "metadata": {},
   "outputs": [
    {
     "data": {
      "text/plain": [
       "Pipeline(steps=[('scaler', StandardScaler()),\n",
       "                ('sgd', SGDRegressor(alpha=0.1, random_state=42))])"
      ]
     },
     "execution_count": 43,
     "metadata": {},
     "output_type": "execute_result"
    }
   ],
   "source": [
    "grid.best_estimator_"
   ]
  },
  {
   "cell_type": "code",
   "execution_count": 45,
   "metadata": {},
   "outputs": [
    {
     "data": {
      "image/png": "[encoded data removed]",
      "text/plain": [
       "<Figure size 720x432 with 1 Axes>"
      ]
     },
     "metadata": {
      "needs_background": "light"
     },
     "output_type": "display_data"
    }
   ],
   "source": [
    "pipe3 = pip.Pipeline([\n",
    "    (\"scaler\", pre.StandardScaler()), #anything besides last one needs to have transform and fit method\n",
    "    (\"sgd\", lin.SGDRegressor(alpha=0.1,random_state=42,max_iter=10000)), #last one needs to have fit method\n",
    "])\n",
    "\n",
    "pipe3.fit(X_train,y_train.ravel())\n",
    "plotLearningCurve(pipe3, X_train, y_train.ravel(), X_test, y_test.ravel(), n_iter=10,maxY=100)"
   ]
  },
  {
   "cell_type": "code",
   "execution_count": 46,
   "metadata": {},
   "outputs": [],
   "source": [
    "y_pred = grid.best_estimator_.predict(X_test)"
   ]
  },
  {
   "cell_type": "code",
   "execution_count": 47,
   "metadata": {},
   "outputs": [
    {
     "data": {
      "text/plain": [
       "53.121040177478015"
      ]
     },
     "execution_count": 47,
     "metadata": {},
     "output_type": "execute_result"
    }
   ],
   "source": [
    "\n",
    "met.mean_squared_error(y_test,y_pred,squared=False)"
   ]
  }
 ],
 "metadata": {
  "interpreter": {
   "hash": "178cc0fd10d6dc57f9d19bb005717997f87ade44bcc6e3f78e11055999a3033b"
  },
  "kernelspec": {
   "display_name": "Python 3.9.12 ('base')",
   "language": "python",
   "name": "python3"
  },
  "language_info": {
   "codemirror_mode": {
    "name": "ipython",
    "version": 3
   },
   "file_extension": ".py",
   "mimetype": "text/x-python",
   "name": "python",
   "nbconvert_exporter": "python",
   "pygments_lexer": "ipython3",
   "version": "3.9.12"
  },
  "orig_nbformat": 4
 },
 "nbformat": 4,
 "nbformat_minor": 2
}
