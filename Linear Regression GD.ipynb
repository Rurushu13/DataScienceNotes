{
 "cells": [
  {
   "cell_type": "markdown",
   "metadata": {},
   "source": [
    "# Linear Regression GD"
   ]
  },
  {
   "cell_type": "code",
   "execution_count": 33,
   "metadata": {},
   "outputs": [],
   "source": [
    "import pandas as pd\n",
    "import numpy as np\n",
    "from matplotlib import pyplot as plt\n",
    "#from sklearn.linear_model import LinearRegression unprofessional way \n",
    "from sklearn import linear_model as lin \n",
    "from sklearn import preprocessing as pre\n",
    "from sklearn import metrics as met\n",
    "from sklearn import model_selection as mod\n",
    "from sklearn import pipeline as pip"
   ]
  },
  {
   "cell_type": "markdown",
   "metadata": {},
   "source": [
    "* Create a fake data in the trajectory of y=3x+4 with normal distributed errors."
   ]
  },
  {
   "cell_type": "code",
   "execution_count": 2,
   "metadata": {},
   "outputs": [
    {
     "data": {
      "text/plain": [
       "<matplotlib.collections.PathCollection at 0x169b04975b0>"
      ]
     },
     "execution_count": 2,
     "metadata": {},
     "output_type": "execute_result"
    },
    {
     "data": {
      "image/png": "[encoded data removed]",
      "text/plain": [
       "<Figure size 432x288 with 1 Axes>"
      ]
     },
     "metadata": {
      "needs_background": "light"
     },
     "output_type": "display_data"
    }
   ],
   "source": [
    "m = 200\n",
    "np.random.seed(42)\n",
    "x =np.random.rand(m,1) * 6 -3 #generates random float in 0 and 1 with size of m and 1\n",
    "# its between [0,1) , if we multiply it by 6 it will generate values between 0 and 6\n",
    "# if we subtract 3 from the value we get random values between -3 and 3\n",
    "y=3*x+4 + 3*np.random.rand(m,1)\n",
    "#if we make y = 3x+4, we would have no error\n",
    "#if we add just a random value the graph will move up\n",
    "# we need to add different errors every time \n",
    "#to increase the error we can multiply the random vlaue\n",
    "plt.scatter(x,y)"
   ]
  },
  {
   "cell_type": "code",
   "execution_count": 3,
   "metadata": {},
   "outputs": [
    {
     "data": {
      "text/plain": [
       "array([[-0.75275929],\n",
       "       [ 2.70428584],\n",
       "       [ 1.39196365]])"
      ]
     },
     "execution_count": 3,
     "metadata": {},
     "output_type": "execute_result"
    }
   ],
   "source": [
    "x[:3]"
   ]
  },
  {
   "cell_type": "code",
   "execution_count": 4,
   "metadata": {},
   "outputs": [
    {
     "data": {
      "text/plain": [
       "array([[ 1.        , -0.75275929],\n",
       "       [ 1.        ,  2.70428584],\n",
       "       [ 1.        ,  1.39196365]])"
      ]
     },
     "execution_count": 4,
     "metadata": {},
     "output_type": "execute_result"
    }
   ],
   "source": [
    "ones_vect = np.ones((m,1))\n",
    "x_2 = np.concatenate((ones_vect,x),axis=1)\n",
    "x_2[:3] #adding the intercept coefficient."
   ]
  },
  {
   "cell_type": "code",
   "execution_count": 5,
   "metadata": {},
   "outputs": [],
   "source": [
    "theta = np.linalg.inv(x_2.T.dot(x_2)).dot(x_2.T).dot(y) #transpose the vector, then take its dot product then invert it\n",
    "# then take dot product of x_2 transposed and then dot product of y\n",
    "#in order to do dot product the shapes of the vectors should be x,y and y,z and result would be x,z\n"
   ]
  },
  {
   "cell_type": "code",
   "execution_count": 6,
   "metadata": {},
   "outputs": [
    {
     "data": {
      "text/plain": [
       "array([[5.5118436 ],\n",
       "       [2.98664262]])"
      ]
     },
     "execution_count": 6,
     "metadata": {},
     "output_type": "execute_result"
    }
   ],
   "source": [
    "theta"
   ]
  },
  {
   "cell_type": "code",
   "execution_count": 7,
   "metadata": {},
   "outputs": [],
   "source": [
    "# y = 4 + 3*x Theta0 = 4 Theta1 = 3\n",
    "# but since we have added values, we get 5.5 and 2.9 instead of 4 and 3"
   ]
  },
  {
   "cell_type": "code",
   "execution_count": 8,
   "metadata": {},
   "outputs": [
    {
     "data": {
      "text/plain": [
       "(2, 1)"
      ]
     },
     "execution_count": 8,
     "metadata": {},
     "output_type": "execute_result"
    }
   ],
   "source": [
    "theta.shape"
   ]
  },
  {
   "cell_type": "code",
   "execution_count": 9,
   "metadata": {},
   "outputs": [
    {
     "data": {
      "text/plain": [
       "(200, 2)"
      ]
     },
     "execution_count": 9,
     "metadata": {},
     "output_type": "execute_result"
    }
   ],
   "source": [
    "x_2.shape"
   ]
  },
  {
   "cell_type": "code",
   "execution_count": 10,
   "metadata": {},
   "outputs": [
    {
     "data": {
      "text/plain": [
       "(200, 1)"
      ]
     },
     "execution_count": 10,
     "metadata": {},
     "output_type": "execute_result"
    }
   ],
   "source": [
    "y_pred = x_2.dot(theta) #predictions in 200,1 dimensions each\n",
    "y_pred.shape"
   ]
  },
  {
   "cell_type": "code",
   "execution_count": 11,
   "metadata": {},
   "outputs": [
    {
     "data": {
      "text/plain": [
       "<matplotlib.collections.PathCollection at 0x169b0c5fc40>"
      ]
     },
     "execution_count": 11,
     "metadata": {},
     "output_type": "execute_result"
    },
    {
     "data": {
      "image/png": "[encoded data removed]",
      "text/plain": [
       "<Figure size 432x288 with 1 Axes>"
      ]
     },
     "metadata": {
      "needs_background": "light"
     },
     "output_type": "display_data"
    }
   ],
   "source": [
    "plt.scatter(x,y)\n",
    "plt.scatter(x,y_pred,color=\"red\")\n",
    "#blue one is our data and red one is our model"
   ]
  },
  {
   "cell_type": "markdown",
   "metadata": {},
   "source": [
    "* sklearn"
   ]
  },
  {
   "cell_type": "code",
   "execution_count": 12,
   "metadata": {},
   "outputs": [
    {
     "data": {
      "text/plain": [
       "LinearRegression()"
      ]
     },
     "execution_count": 12,
     "metadata": {},
     "output_type": "execute_result"
    }
   ],
   "source": [
    "lin_reg = lin.LinearRegression()\n",
    "#create the model \n",
    "lin_reg.fit(x,y)"
   ]
  },
  {
   "cell_type": "code",
   "execution_count": 13,
   "metadata": {},
   "outputs": [
    {
     "data": {
      "text/plain": [
       "array([5.5118436])"
      ]
     },
     "execution_count": 13,
     "metadata": {},
     "output_type": "execute_result"
    }
   ],
   "source": [
    "lin_reg.intercept_ #theta 0 value"
   ]
  },
  {
   "cell_type": "code",
   "execution_count": 14,
   "metadata": {},
   "outputs": [
    {
     "data": {
      "text/plain": [
       "array([[2.98664262]])"
      ]
     },
     "execution_count": 14,
     "metadata": {},
     "output_type": "execute_result"
    }
   ],
   "source": [
    "lin_reg.coef_ "
   ]
  },
  {
   "cell_type": "code",
   "execution_count": 15,
   "metadata": {},
   "outputs": [],
   "source": [
    "# same values we found"
   ]
  },
  {
   "cell_type": "code",
   "execution_count": 16,
   "metadata": {},
   "outputs": [
    {
     "data": {
      "text/plain": [
       "array([[6.40783638],\n",
       "       [1.71880748]])"
      ]
     },
     "execution_count": 16,
     "metadata": {},
     "output_type": "execute_result"
    }
   ],
   "source": [
    "x_test1=[0.3] #takes list of samples, cant be single array must be array of arrays.\n",
    "x_test2=[-1.27]\n",
    "lin_reg.predict([x_test1,x_test2]) #takes x values"
   ]
  },
  {
   "cell_type": "markdown",
   "metadata": {},
   "source": [
    "# Batch Gradient Descent"
   ]
  },
  {
   "cell_type": "code",
   "execution_count": 17,
   "metadata": {},
   "outputs": [
    {
     "data": {
      "image/png": "[encoded data removed]",
      "text/plain": [
       "<Figure size 432x288 with 1 Axes>"
      ]
     },
     "metadata": {
      "needs_background": "light"
     },
     "output_type": "display_data"
    },
    {
     "data": {
      "text/plain": [
       "array([[5.44714692],\n",
       "       [2.98372575]])"
      ]
     },
     "execution_count": 17,
     "metadata": {},
     "output_type": "execute_result"
    }
   ],
   "source": [
    "# randomly initialize theta values\n",
    "theta = np.random.rand(2,1)\n",
    "eta = 0.1 #learning speed\n",
    "n_steps=20 #number of steps\n",
    "\n",
    "for i in range(n_steps):\n",
    "    #compute the gradient\n",
    "    gradient = (2/m)*x_2.T.dot(x_2.dot(theta)-y) #need to use the X with 1 value added to the beginning\n",
    "    #update theta values\n",
    "    theta=theta-eta*gradient\n",
    "\n",
    "    y_pred = x_2.dot(theta)\n",
    "    if i == 0:\n",
    "        myColor = \"green\" #first try color\n",
    "    elif i == n_steps-1:\n",
    "        myColor=\"red\" #last try color\n",
    "    else:\n",
    "        myColor=\"orange\"\n",
    "    plt.scatter(x,y_pred,color=myColor)\n",
    "plt.scatter(x,y)\n",
    "plt.show()\n",
    "theta"
   ]
  },
  {
   "cell_type": "code",
   "execution_count": 18,
   "metadata": {},
   "outputs": [
    {
     "data": {
      "image/png": "[encoded data removed]",
      "text/plain": [
       "<Figure size 432x288 with 1 Axes>"
      ]
     },
     "metadata": {
      "needs_background": "light"
     },
     "output_type": "display_data"
    },
    {
     "data": {
      "image/png": "[encoded data removed]",
      "text/plain": [
       "<Figure size 432x288 with 1 Axes>"
      ]
     },
     "metadata": {
      "needs_background": "light"
     },
     "output_type": "display_data"
    },
    {
     "data": {
      "image/png": "[encoded data removed]",
      "text/plain": [
       "<Figure size 432x288 with 1 Axes>"
      ]
     },
     "metadata": {
      "needs_background": "light"
     },
     "output_type": "display_data"
    },
    {
     "data": {
      "text/plain": [
       "array([[-8.55377037e+25],\n",
       "       [ 1.89725134e+27]])"
      ]
     },
     "execution_count": 18,
     "metadata": {},
     "output_type": "execute_result"
    }
   ],
   "source": [
    "for eta in [0.001,0.1,10]:\n",
    "    # randomly initialize theta values\n",
    "    theta = np.random.rand(2,1)\n",
    "    n_steps=15 #number of steps\n",
    "\n",
    "    for i in range(n_steps):\n",
    "        #compute the gradient\n",
    "        gradient = (2/m)*x_2.T.dot(x_2.dot(theta)-y) #need to use the X with 1 value added to the beginning\n",
    "        #update theta values\n",
    "        theta=theta-eta*gradient\n",
    "\n",
    "        y_pred = x_2.dot(theta)\n",
    "        if i == 0:\n",
    "            myColor = \"green\" #first try color\n",
    "        elif i == n_steps-1:\n",
    "            myColor=\"red\" #last try color\n",
    "        else:\n",
    "            myColor=\"orange\"\n",
    "        plt.scatter(x,y_pred,color=myColor)\n",
    "    plt.scatter(x,y)\n",
    "    plt.title(\"Eta:\"+str(eta))\n",
    "    plt.show()\n",
    "theta"
   ]
  },
  {
   "cell_type": "markdown",
   "metadata": {},
   "source": [
    "# Stochastic Gradient Descent (SGD)"
   ]
  },
  {
   "cell_type": "code",
   "execution_count": 19,
   "metadata": {},
   "outputs": [
    {
     "data": {
      "text/plain": [
       "array([[5.30547148],\n",
       "       [2.69085947]])"
      ]
     },
     "execution_count": 19,
     "metadata": {},
     "output_type": "execute_result"
    },
    {
     "data": {
      "image/png": "[encoded data removed]",
      "text/plain": [
       "<Figure size 432x288 with 1 Axes>"
      ]
     },
     "metadata": {
      "needs_background": "light"
     },
     "output_type": "display_data"
    }
   ],
   "source": [
    "theta = np.random.rand(2,1)\n",
    "eta = 0.1\n",
    "epoch_num = 10\n",
    "\n",
    "for j in range(epoch_num): #times epoch num epoch operations\n",
    "    for i in range(m): #completing this loop for m times means 1 epoch\n",
    "        rand_idx = np.random.randint(0,m) #random index selection\n",
    "        rand_sample = x_2[rand_idx:rand_idx+1] #to return list of list\n",
    "        rand_y = y[rand_idx:rand_idx+1]\n",
    "        gradient=2 * rand_sample.T.dot(rand_sample.dot(theta)-rand_y)\n",
    "        theta = theta - eta*gradient\n",
    "    y_pred=x_2.dot(theta)\n",
    "    if j == 0:\n",
    "        myColor=\"green\"\n",
    "    elif j == epoch_num-1:\n",
    "        myColor=\"red\"\n",
    "    else:\n",
    "        myColor=\"orange\"\n",
    "        \n",
    "    plt.scatter(x,y_pred,color=myColor)\n",
    "plt.scatter(x,y,color=\"Blue\")\n",
    "theta"
   ]
  },
  {
   "cell_type": "code",
   "execution_count": 20,
   "metadata": {},
   "outputs": [
    {
     "data": {
      "text/plain": [
       "array([[5.75328107],\n",
       "       [3.07577579]])"
      ]
     },
     "execution_count": 20,
     "metadata": {},
     "output_type": "execute_result"
    },
    {
     "data": {
      "image/png": "[encoded data removed]",
      "text/plain": [
       "<Figure size 432x288 with 1 Axes>"
      ]
     },
     "metadata": {
      "needs_background": "light"
     },
     "output_type": "display_data"
    }
   ],
   "source": [
    "# simulated annealing\n",
    "\n",
    "def returnLearningRate(t):\n",
    "    return 100 /(1000+t) #as t increases returns lower values\n",
    "\n",
    "theta = np.random.rand(2,1)\n",
    "# eta = 0.1\n",
    "epoch_num = 10\n",
    "\n",
    "for j in range(epoch_num): #times epoch num epoch operations\n",
    "    for i in range(m): #completing this loop for m times means 1 epoch\n",
    "        rand_idx = np.random.randint(0,m) #random index selection\n",
    "        rand_sample = x_2[rand_idx:rand_idx+1] #to return list of list\n",
    "        rand_y = y[rand_idx:rand_idx+1]\n",
    "        gradient=2 * rand_sample.T.dot(rand_sample.dot(theta)-rand_y)\n",
    "        eta = returnLearningRate(m * j + i)\n",
    "        theta = theta - eta*gradient\n",
    "    y_pred=x_2.dot(theta)\n",
    "    if j == 0:\n",
    "        myColor=\"green\"\n",
    "    elif j == epoch_num-1:\n",
    "        myColor=\"red\"\n",
    "    else:\n",
    "        myColor=\"orange\"\n",
    "        \n",
    "    plt.scatter(x,y_pred,color=myColor)\n",
    "plt.scatter(x,y,color=\"Blue\")\n",
    "theta"
   ]
  },
  {
   "cell_type": "markdown",
   "metadata": {},
   "source": [
    "# sgd with sklearn"
   ]
  },
  {
   "cell_type": "code",
   "execution_count": 21,
   "metadata": {},
   "outputs": [
    {
     "data": {
      "text/plain": [
       "(200, 1)"
      ]
     },
     "execution_count": 21,
     "metadata": {},
     "output_type": "execute_result"
    }
   ],
   "source": [
    "y.shape #regressor doesnt like when y is list of lists"
   ]
  },
  {
   "cell_type": "code",
   "execution_count": 22,
   "metadata": {},
   "outputs": [
    {
     "data": {
      "text/plain": [
       "array([[ 3.66781708],\n",
       "       [12.36527741],\n",
       "       [ 8.66077709]])"
      ]
     },
     "execution_count": 22,
     "metadata": {},
     "output_type": "execute_result"
    }
   ],
   "source": [
    "y[:3]"
   ]
  },
  {
   "cell_type": "code",
   "execution_count": 23,
   "metadata": {},
   "outputs": [
    {
     "data": {
      "text/plain": [
       "array([ 3.66781708, 12.36527741,  8.66077709])"
      ]
     },
     "execution_count": 23,
     "metadata": {},
     "output_type": "execute_result"
    }
   ],
   "source": [
    "y.ravel()[:3]"
   ]
  },
  {
   "cell_type": "code",
   "execution_count": 24,
   "metadata": {},
   "outputs": [
    {
     "data": {
      "text/plain": [
       "SGDRegressor(alpha=0.001, early_stopping=True, eta0=0.1, max_iter=100,\n",
       "             random_state=42)"
      ]
     },
     "execution_count": 24,
     "metadata": {},
     "output_type": "execute_result"
    }
   ],
   "source": [
    "sgd_reg = lin.SGDRegressor(penalty=\"l2\",alpha=0.001, early_stopping=True, eta0=0.1,\n",
    "                            random_state=42, max_iter=100)\n",
    "sgd_reg.fit(x,y.ravel())"
   ]
  },
  {
   "cell_type": "code",
   "execution_count": 25,
   "metadata": {},
   "outputs": [
    {
     "data": {
      "text/plain": [
       "array([5.53767349])"
      ]
     },
     "execution_count": 25,
     "metadata": {},
     "output_type": "execute_result"
    }
   ],
   "source": [
    "sgd_reg.intercept_"
   ]
  },
  {
   "cell_type": "code",
   "execution_count": 26,
   "metadata": {},
   "outputs": [
    {
     "data": {
      "text/plain": [
       "array([3.02125366])"
      ]
     },
     "execution_count": 26,
     "metadata": {},
     "output_type": "execute_result"
    }
   ],
   "source": [
    "sgd_reg.coef_"
   ]
  },
  {
   "cell_type": "code",
   "execution_count": 27,
   "metadata": {},
   "outputs": [],
   "source": [
    "#standartization\n",
    "scaler = pre.StandardScaler()\n",
    "#scaler.fit(x) # calculating mean and std for each feature\n",
    "#x_scaled=scaler.transform(x) \n",
    "x_scaled = scaler.fit_transform(x)"
   ]
  },
  {
   "cell_type": "code",
   "execution_count": 28,
   "metadata": {},
   "outputs": [
    {
     "data": {
      "text/plain": [
       "SGDRegressor(random_state=42)"
      ]
     },
     "execution_count": 28,
     "metadata": {},
     "output_type": "execute_result"
    }
   ],
   "source": [
    "#model learning\n",
    "sgd_reg=lin.SGDRegressor(random_state=42)\n",
    "sgd_reg.fit(x_scaled,y.ravel())\n"
   ]
  },
  {
   "cell_type": "code",
   "execution_count": 29,
   "metadata": {},
   "outputs": [
    {
     "name": "stdout",
     "output_type": "stream",
     "text": [
      "0.8765664836903745\n"
     ]
    }
   ],
   "source": [
    "#test the performance\n",
    "y_pred = sgd_reg.predict(x_scaled)\n",
    "rmse_score = met.mean_squared_error(y,y_pred,squared=False)\n",
    "print(rmse_score)\n",
    "#this is a wrong approach because we tested algorithm with data we trained it with"
   ]
  },
  {
   "cell_type": "code",
   "execution_count": 30,
   "metadata": {},
   "outputs": [],
   "source": [
    "x_train,x_test,y_train,y_test = mod.train_test_split(x,y,test_size=0.25,random_state=42)"
   ]
  },
  {
   "cell_type": "code",
   "execution_count": 31,
   "metadata": {},
   "outputs": [
    {
     "name": "stdout",
     "output_type": "stream",
     "text": [
      "0.8018509919287758\n"
     ]
    }
   ],
   "source": [
    "#scale train data\n",
    "scaler = pre.StandardScaler() \n",
    "x_train_scaled=scaler.fit_transform(x_train)\n",
    "#model learning\n",
    "sgd_reg = lin.SGDRegressor(random_state=42)\n",
    "sgd_reg.fit(x_train_scaled, y_train.ravel())\n",
    "#scale test data \n",
    "#test datasını scale ederken train datasının scalerına göre scale etmemiz gerekir\n",
    "scaler2=pre.StandardScaler()\n",
    "x_test_scaled = scaler2.fit_transform(x_test)\n",
    "#make predictions\n",
    "y_pred=sgd_reg.predict(x_test_scaled)\n",
    "rmse_score=met.mean_squared_error(y_test,y_pred,squared=False)\n",
    "print(rmse_score)\n",
    "\n",
    "#yanlış yaklaşım"
   ]
  },
  {
   "cell_type": "code",
   "execution_count": 32,
   "metadata": {},
   "outputs": [
    {
     "name": "stdout",
     "output_type": "stream",
     "text": [
      "0.8038038371186007\n"
     ]
    }
   ],
   "source": [
    "# correct approach\n",
    "\n",
    "#scale train data\n",
    "scaler = pre.StandardScaler() \n",
    "x_train_scaled=scaler.fit_transform(x_train)\n",
    "#model learning\n",
    "sgd_reg = lin.SGDRegressor(random_state=42)\n",
    "sgd_reg.fit(x_train_scaled, y_train.ravel())\n",
    "#scale test data \n",
    "#test datasını scale ederken train datasının scalerına göre scale etmemiz gerekir\n",
    "x_test_scaled = scaler.transform(x_test)#sadece transform edeceğiz train ettiğimiz scaler'ı\n",
    "#make predictions\n",
    "y_pred=sgd_reg.predict(x_test_scaled)\n",
    "rmse_score=met.mean_squared_error(y_test,y_pred,squared=False)\n",
    "print(rmse_score)"
   ]
  },
  {
   "cell_type": "markdown",
   "metadata": {},
   "source": [
    "# pipeline"
   ]
  },
  {
   "cell_type": "code",
   "execution_count": null,
   "metadata": {},
   "outputs": [],
   "source": [
    "myPipeline = pip.Pipeline([\n",
    "    (), #needs to be fit and transform\n",
    "    (), #needs to be fit and transform\n",
    "    (), #needs to be fit and transform\n",
    "    ...\n",
    "    (), #fit is mandatory for last step\n",
    "])"
   ]
  },
  {
   "cell_type": "code",
   "execution_count": 34,
   "metadata": {},
   "outputs": [
    {
     "data": {
      "text/plain": [
       "Pipeline(steps=[('scaler', StandardScaler()),\n",
       "                ('sgd', SGDRegressor(random_state=42))])"
      ]
     },
     "execution_count": 34,
     "metadata": {},
     "output_type": "execute_result"
    }
   ],
   "source": [
    "pipe = pip.Pipeline([\n",
    "    (\"scaler\", pre.StandardScaler()), #anything besides last one needs to have transform and fit method\n",
    "    (\"sgd\", lin.SGDRegressor(random_state=42)), #last one needs to have fit method\n",
    "])\n",
    "\n",
    "pipe.fit(x_train,y_train.ravel())"
   ]
  },
  {
   "cell_type": "code",
   "execution_count": 35,
   "metadata": {},
   "outputs": [
    {
     "name": "stdout",
     "output_type": "stream",
     "text": [
      "0.8038038371186007\n"
     ]
    }
   ],
   "source": [
    "y_pred = pipe.predict(x_test)\n",
    "myScore = met.mean_squared_error(y_test,y_pred, squared=False)\n",
    "print(myScore)"
   ]
  },
  {
   "cell_type": "code",
   "execution_count": 36,
   "metadata": {},
   "outputs": [],
   "source": [
    "pipe2 = pip.Pipeline([\n",
    "    (\"scaler\", pre.StandardScaler())\n",
    "])\n",
    "\n",
    "pipe2.fit(x_train)\n",
    "x_test_scaled = pipe2.transform(x_test)"
   ]
  },
  {
   "cell_type": "markdown",
   "metadata": {},
   "source": [
    "# Cross Validation Using a Pipeline"
   ]
  },
  {
   "cell_type": "code",
   "execution_count": 41,
   "metadata": {},
   "outputs": [
    {
     "data": {
      "text/plain": [
       "array([-0.92887543, -0.94972758, -0.85046609])"
      ]
     },
     "execution_count": 41,
     "metadata": {},
     "output_type": "execute_result"
    }
   ],
   "source": [
    "pipe = pip.Pipeline([\n",
    "    (\"scaler\", pre.StandardScaler()), #anything besides last one needs to have transform and fit method\n",
    "    (\"sgd\", lin.SGDRegressor(random_state=42)), #last one needs to have fit method\n",
    "])\n",
    "\n",
    "mod.cross_val_score(pipe, x_train, y_train.ravel(), cv=3, n_jobs=-1, scoring=\"neg_root_mean_squared_error\") \n",
    "#estimator, train data, train results, cross validation number, paralell operations, scoring (default is accuracy)"
   ]
  },
  {
   "cell_type": "code",
   "execution_count": 46,
   "metadata": {},
   "outputs": [
    {
     "name": "stdout",
     "output_type": "stream",
     "text": [
      "alpha: 0.001 score: 0.9098545955563481\n",
      "alpha: 0.01 score: 0.9123382589918284\n",
      "alpha: 0.1 score: 1.0317985563235503\n"
     ]
    }
   ],
   "source": [
    "\n",
    "for a in [0.001,0.01,0.1]: #alfa = modeli ne kadar regularize etmek istiyoruz\n",
    "    pipe = pip.Pipeline([\n",
    "        (\"scaler\", pre.StandardScaler()), #anything besides last one needs to have transform and fit method\n",
    "        (\"sgd\", lin.SGDRegressor(alpha=a,random_state=42)), #last one needs to have fit method\n",
    "    ])\n",
    "\n",
    "    myScore = mod.cross_val_score(pipe, x_train, y_train.ravel(), cv=3, scoring=\"neg_root_mean_squared_error\").mean()*-1\n",
    "    print(\"alpha:\",a,\"score:\",myScore)"
   ]
  },
  {
   "cell_type": "markdown",
   "metadata": {},
   "source": [
    "# Grid Search"
   ]
  },
  {
   "cell_type": "code",
   "execution_count": 49,
   "metadata": {},
   "outputs": [
    {
     "data": {
      "text/plain": [
       "GridSearchCV(cv=3,\n",
       "             estimator=Pipeline(steps=[('scaler', StandardScaler()),\n",
       "                                       ('sgd', SGDRegressor(random_state=42))]),\n",
       "             param_grid={'sgd__alpha': [0.001, 0.01, 0.1],\n",
       "                         'sgd__eta0': [0.01, 0.1, 1],\n",
       "                         'sgd__penalty': ['l1', 'l2']},\n",
       "             scoring='neg_root_mean_squared_error')"
      ]
     },
     "execution_count": 49,
     "metadata": {},
     "output_type": "execute_result"
    }
   ],
   "source": [
    "pipe = pip.Pipeline([\n",
    "    (\"scaler\", pre.StandardScaler()), #anything besides last one needs to have transform and fit method\n",
    "    (\"sgd\", lin.SGDRegressor(random_state=42)), #last one needs to have fit method\n",
    "])\n",
    "\n",
    "myParams = {\n",
    "    \"sgd__alpha\":[0.001,0.01,0.1],\n",
    "    \"sgd__penalty\":[\"l1\",\"l2\"],\n",
    "    \"sgd__eta0\":[0.01,0.1,1]\n",
    "}\n",
    "grid = mod.GridSearchCV(pipe, myParams, scoring=\"neg_root_mean_squared_error\", cv=3)\n",
    "grid.fit(x_train,y_train.ravel())"
   ]
  },
  {
   "cell_type": "code",
   "execution_count": 50,
   "metadata": {},
   "outputs": [
    {
     "data": {
      "text/html": [
       "<div>\n",
       "<style scoped>\n",
       "    .dataframe tbody tr th:only-of-type {\n",
       "        vertical-align: middle;\n",
       "    }\n",
       "\n",
       "    .dataframe tbody tr th {\n",
       "        vertical-align: top;\n",
       "    }\n",
       "\n",
       "    .dataframe thead th {\n",
       "        text-align: right;\n",
       "    }\n",
       "</style>\n",
       "<table border=\"1\" class=\"dataframe\">\n",
       "  <thead>\n",
       "    <tr style=\"text-align: right;\">\n",
       "      <th></th>\n",
       "      <th>mean_fit_time</th>\n",
       "      <th>std_fit_time</th>\n",
       "      <th>mean_score_time</th>\n",
       "      <th>std_score_time</th>\n",
       "      <th>param_sgd__alpha</th>\n",
       "      <th>param_sgd__eta0</th>\n",
       "      <th>param_sgd__penalty</th>\n",
       "      <th>params</th>\n",
       "      <th>split0_test_score</th>\n",
       "      <th>split1_test_score</th>\n",
       "      <th>split2_test_score</th>\n",
       "      <th>mean_test_score</th>\n",
       "      <th>std_test_score</th>\n",
       "      <th>rank_test_score</th>\n",
       "    </tr>\n",
       "  </thead>\n",
       "  <tbody>\n",
       "    <tr>\n",
       "      <th>0</th>\n",
       "      <td>0.000687</td>\n",
       "      <td>0.000972</td>\n",
       "      <td>0.002671</td>\n",
       "      <td>0.003777</td>\n",
       "      <td>0.001</td>\n",
       "      <td>0.01</td>\n",
       "      <td>l1</td>\n",
       "      <td>{'sgd__alpha': 0.001, 'sgd__eta0': 0.01, 'sgd_...</td>\n",
       "      <td>-0.928967</td>\n",
       "      <td>-0.949655</td>\n",
       "      <td>-0.850499</td>\n",
       "      <td>-0.909707</td>\n",
       "      <td>0.042710</td>\n",
       "      <td>5</td>\n",
       "    </tr>\n",
       "    <tr>\n",
       "      <th>1</th>\n",
       "      <td>0.002666</td>\n",
       "      <td>0.003771</td>\n",
       "      <td>0.002669</td>\n",
       "      <td>0.003774</td>\n",
       "      <td>0.001</td>\n",
       "      <td>0.01</td>\n",
       "      <td>l2</td>\n",
       "      <td>{'sgd__alpha': 0.001, 'sgd__eta0': 0.01, 'sgd_...</td>\n",
       "      <td>-0.929743</td>\n",
       "      <td>-0.949025</td>\n",
       "      <td>-0.850796</td>\n",
       "      <td>-0.909855</td>\n",
       "      <td>0.042496</td>\n",
       "      <td>6</td>\n",
       "    </tr>\n",
       "    <tr>\n",
       "      <th>2</th>\n",
       "      <td>0.005334</td>\n",
       "      <td>0.003772</td>\n",
       "      <td>0.000000</td>\n",
       "      <td>0.000000</td>\n",
       "      <td>0.001</td>\n",
       "      <td>0.1</td>\n",
       "      <td>l1</td>\n",
       "      <td>{'sgd__alpha': 0.001, 'sgd__eta0': 0.1, 'sgd__...</td>\n",
       "      <td>-0.919022</td>\n",
       "      <td>-0.951828</td>\n",
       "      <td>-0.853015</td>\n",
       "      <td>-0.907955</td>\n",
       "      <td>0.041092</td>\n",
       "      <td>1</td>\n",
       "    </tr>\n",
       "    <tr>\n",
       "      <th>3</th>\n",
       "      <td>0.002666</td>\n",
       "      <td>0.003771</td>\n",
       "      <td>0.000000</td>\n",
       "      <td>0.000000</td>\n",
       "      <td>0.001</td>\n",
       "      <td>0.1</td>\n",
       "      <td>l2</td>\n",
       "      <td>{'sgd__alpha': 0.001, 'sgd__eta0': 0.1, 'sgd__...</td>\n",
       "      <td>-0.919542</td>\n",
       "      <td>-0.951126</td>\n",
       "      <td>-0.853240</td>\n",
       "      <td>-0.907969</td>\n",
       "      <td>0.040791</td>\n",
       "      <td>2</td>\n",
       "    </tr>\n",
       "    <tr>\n",
       "      <th>4</th>\n",
       "      <td>0.002667</td>\n",
       "      <td>0.003772</td>\n",
       "      <td>0.000000</td>\n",
       "      <td>0.000000</td>\n",
       "      <td>0.001</td>\n",
       "      <td>1</td>\n",
       "      <td>l1</td>\n",
       "      <td>{'sgd__alpha': 0.001, 'sgd__eta0': 1, 'sgd__pe...</td>\n",
       "      <td>-0.982550</td>\n",
       "      <td>-0.949641</td>\n",
       "      <td>-0.909004</td>\n",
       "      <td>-0.947065</td>\n",
       "      <td>0.030080</td>\n",
       "      <td>11</td>\n",
       "    </tr>\n",
       "    <tr>\n",
       "      <th>5</th>\n",
       "      <td>0.002666</td>\n",
       "      <td>0.003770</td>\n",
       "      <td>0.000000</td>\n",
       "      <td>0.000000</td>\n",
       "      <td>0.001</td>\n",
       "      <td>1</td>\n",
       "      <td>l2</td>\n",
       "      <td>{'sgd__alpha': 0.001, 'sgd__eta0': 1, 'sgd__pe...</td>\n",
       "      <td>-0.984362</td>\n",
       "      <td>-0.949213</td>\n",
       "      <td>-0.909603</td>\n",
       "      <td>-0.947726</td>\n",
       "      <td>0.030538</td>\n",
       "      <td>12</td>\n",
       "    </tr>\n",
       "    <tr>\n",
       "      <th>6</th>\n",
       "      <td>0.002667</td>\n",
       "      <td>0.003772</td>\n",
       "      <td>0.000000</td>\n",
       "      <td>0.000000</td>\n",
       "      <td>0.01</td>\n",
       "      <td>0.01</td>\n",
       "      <td>l1</td>\n",
       "      <td>{'sgd__alpha': 0.01, 'sgd__eta0': 0.01, 'sgd__...</td>\n",
       "      <td>-0.930698</td>\n",
       "      <td>-0.949031</td>\n",
       "      <td>-0.851162</td>\n",
       "      <td>-0.910297</td>\n",
       "      <td>0.042479</td>\n",
       "      <td>7</td>\n",
       "    </tr>\n",
       "    <tr>\n",
       "      <th>7</th>\n",
       "      <td>0.005338</td>\n",
       "      <td>0.003775</td>\n",
       "      <td>0.002664</td>\n",
       "      <td>0.003768</td>\n",
       "      <td>0.01</td>\n",
       "      <td>0.01</td>\n",
       "      <td>l2</td>\n",
       "      <td>{'sgd__alpha': 0.01, 'sgd__eta0': 0.01, 'sgd__...</td>\n",
       "      <td>-0.938212</td>\n",
       "      <td>-0.944352</td>\n",
       "      <td>-0.854451</td>\n",
       "      <td>-0.912338</td>\n",
       "      <td>0.041009</td>\n",
       "      <td>8</td>\n",
       "    </tr>\n",
       "    <tr>\n",
       "      <th>8</th>\n",
       "      <td>0.003357</td>\n",
       "      <td>0.003422</td>\n",
       "      <td>0.000000</td>\n",
       "      <td>0.000000</td>\n",
       "      <td>0.01</td>\n",
       "      <td>0.1</td>\n",
       "      <td>l1</td>\n",
       "      <td>{'sgd__alpha': 0.01, 'sgd__eta0': 0.1, 'sgd__p...</td>\n",
       "      <td>-0.920156</td>\n",
       "      <td>-0.950404</td>\n",
       "      <td>-0.853507</td>\n",
       "      <td>-0.908022</td>\n",
       "      <td>0.040478</td>\n",
       "      <td>3</td>\n",
       "    </tr>\n",
       "    <tr>\n",
       "      <th>9</th>\n",
       "      <td>0.002657</td>\n",
       "      <td>0.003758</td>\n",
       "      <td>0.000000</td>\n",
       "      <td>0.000000</td>\n",
       "      <td>0.01</td>\n",
       "      <td>0.1</td>\n",
       "      <td>l2</td>\n",
       "      <td>{'sgd__alpha': 0.01, 'sgd__eta0': 0.1, 'sgd__p...</td>\n",
       "      <td>-0.926701</td>\n",
       "      <td>-0.944806</td>\n",
       "      <td>-0.857187</td>\n",
       "      <td>-0.909564</td>\n",
       "      <td>0.037767</td>\n",
       "      <td>4</td>\n",
       "    </tr>\n",
       "    <tr>\n",
       "      <th>10</th>\n",
       "      <td>0.002673</td>\n",
       "      <td>0.003780</td>\n",
       "      <td>0.000000</td>\n",
       "      <td>0.000000</td>\n",
       "      <td>0.01</td>\n",
       "      <td>1</td>\n",
       "      <td>l1</td>\n",
       "      <td>{'sgd__alpha': 0.01, 'sgd__eta0': 1, 'sgd__pen...</td>\n",
       "      <td>-0.986542</td>\n",
       "      <td>-0.948781</td>\n",
       "      <td>-0.910302</td>\n",
       "      <td>-0.948542</td>\n",
       "      <td>0.031125</td>\n",
       "      <td>13</td>\n",
       "    </tr>\n",
       "    <tr>\n",
       "      <th>11</th>\n",
       "      <td>0.001659</td>\n",
       "      <td>0.002346</td>\n",
       "      <td>0.000740</td>\n",
       "      <td>0.001046</td>\n",
       "      <td>0.01</td>\n",
       "      <td>1</td>\n",
       "      <td>l2</td>\n",
       "      <td>{'sgd__alpha': 0.01, 'sgd__eta0': 1, 'sgd__pen...</td>\n",
       "      <td>-1.006309</td>\n",
       "      <td>-0.947086</td>\n",
       "      <td>-0.916779</td>\n",
       "      <td>-0.956725</td>\n",
       "      <td>0.037180</td>\n",
       "      <td>14</td>\n",
       "    </tr>\n",
       "    <tr>\n",
       "      <th>12</th>\n",
       "      <td>0.005243</td>\n",
       "      <td>0.003709</td>\n",
       "      <td>0.000391</td>\n",
       "      <td>0.000553</td>\n",
       "      <td>0.1</td>\n",
       "      <td>0.01</td>\n",
       "      <td>l1</td>\n",
       "      <td>{'sgd__alpha': 0.1, 'sgd__eta0': 0.01, 'sgd__p...</td>\n",
       "      <td>-0.949293</td>\n",
       "      <td>-0.941421</td>\n",
       "      <td>-0.857694</td>\n",
       "      <td>-0.916136</td>\n",
       "      <td>0.041450</td>\n",
       "      <td>9</td>\n",
       "    </tr>\n",
       "    <tr>\n",
       "      <th>13</th>\n",
       "      <td>0.002663</td>\n",
       "      <td>0.003765</td>\n",
       "      <td>0.000000</td>\n",
       "      <td>0.000000</td>\n",
       "      <td>0.1</td>\n",
       "      <td>0.01</td>\n",
       "      <td>l2</td>\n",
       "      <td>{'sgd__alpha': 0.1, 'sgd__eta0': 0.01, 'sgd__p...</td>\n",
       "      <td>-1.112085</td>\n",
       "      <td>-0.992454</td>\n",
       "      <td>-0.990857</td>\n",
       "      <td>-1.031799</td>\n",
       "      <td>0.056775</td>\n",
       "      <td>17</td>\n",
       "    </tr>\n",
       "    <tr>\n",
       "      <th>14</th>\n",
       "      <td>0.000000</td>\n",
       "      <td>0.000000</td>\n",
       "      <td>0.002674</td>\n",
       "      <td>0.003782</td>\n",
       "      <td>0.1</td>\n",
       "      <td>0.1</td>\n",
       "      <td>l1</td>\n",
       "      <td>{'sgd__alpha': 0.1, 'sgd__eta0': 0.1, 'sgd__pe...</td>\n",
       "      <td>-0.948276</td>\n",
       "      <td>-0.943697</td>\n",
       "      <td>-0.863737</td>\n",
       "      <td>-0.918570</td>\n",
       "      <td>0.038818</td>\n",
       "      <td>10</td>\n",
       "    </tr>\n",
       "    <tr>\n",
       "      <th>15</th>\n",
       "      <td>0.005910</td>\n",
       "      <td>0.004236</td>\n",
       "      <td>0.000000</td>\n",
       "      <td>0.000000</td>\n",
       "      <td>0.1</td>\n",
       "      <td>0.1</td>\n",
       "      <td>l2</td>\n",
       "      <td>{'sgd__alpha': 0.1, 'sgd__eta0': 0.1, 'sgd__pe...</td>\n",
       "      <td>-1.098251</td>\n",
       "      <td>-0.977684</td>\n",
       "      <td>-0.990166</td>\n",
       "      <td>-1.022034</td>\n",
       "      <td>0.054134</td>\n",
       "      <td>16</td>\n",
       "    </tr>\n",
       "    <tr>\n",
       "      <th>16</th>\n",
       "      <td>0.000000</td>\n",
       "      <td>0.000000</td>\n",
       "      <td>0.002664</td>\n",
       "      <td>0.003767</td>\n",
       "      <td>0.1</td>\n",
       "      <td>1</td>\n",
       "      <td>l1</td>\n",
       "      <td>{'sgd__alpha': 0.1, 'sgd__eta0': 1, 'sgd__pena...</td>\n",
       "      <td>-1.033957</td>\n",
       "      <td>-0.949838</td>\n",
       "      <td>-0.925421</td>\n",
       "      <td>-0.969739</td>\n",
       "      <td>0.046491</td>\n",
       "      <td>15</td>\n",
       "    </tr>\n",
       "    <tr>\n",
       "      <th>17</th>\n",
       "      <td>0.002676</td>\n",
       "      <td>0.003785</td>\n",
       "      <td>0.000000</td>\n",
       "      <td>0.000000</td>\n",
       "      <td>0.1</td>\n",
       "      <td>1</td>\n",
       "      <td>l2</td>\n",
       "      <td>{'sgd__alpha': 0.1, 'sgd__eta0': 1, 'sgd__pena...</td>\n",
       "      <td>-1.322292</td>\n",
       "      <td>-0.990791</td>\n",
       "      <td>-1.024639</td>\n",
       "      <td>-1.112574</td>\n",
       "      <td>0.148936</td>\n",
       "      <td>18</td>\n",
       "    </tr>\n",
       "  </tbody>\n",
       "</table>\n",
       "</div>"
      ],
      "text/plain": [
       "    mean_fit_time  std_fit_time  mean_score_time  std_score_time  \\\n",
       "0        0.000687      0.000972         0.002671        0.003777   \n",
       "1        0.002666      0.003771         0.002669        0.003774   \n",
       "2        0.005334      0.003772         0.000000        0.000000   \n",
       "3        0.002666      0.003771         0.000000        0.000000   \n",
       "4        0.002667      0.003772         0.000000        0.000000   \n",
       "5        0.002666      0.003770         0.000000        0.000000   \n",
       "6        0.002667      0.003772         0.000000        0.000000   \n",
       "7        0.005338      0.003775         0.002664        0.003768   \n",
       "8        0.003357      0.003422         0.000000        0.000000   \n",
       "9        0.002657      0.003758         0.000000        0.000000   \n",
       "10       0.002673      0.003780         0.000000        0.000000   \n",
       "11       0.001659      0.002346         0.000740        0.001046   \n",
       "12       0.005243      0.003709         0.000391        0.000553   \n",
       "13       0.002663      0.003765         0.000000        0.000000   \n",
       "14       0.000000      0.000000         0.002674        0.003782   \n",
       "15       0.005910      0.004236         0.000000        0.000000   \n",
       "16       0.000000      0.000000         0.002664        0.003767   \n",
       "17       0.002676      0.003785         0.000000        0.000000   \n",
       "\n",
       "   param_sgd__alpha param_sgd__eta0 param_sgd__penalty  \\\n",
       "0             0.001            0.01                 l1   \n",
       "1             0.001            0.01                 l2   \n",
       "2             0.001             0.1                 l1   \n",
       "3             0.001             0.1                 l2   \n",
       "4             0.001               1                 l1   \n",
       "5             0.001               1                 l2   \n",
       "6              0.01            0.01                 l1   \n",
       "7              0.01            0.01                 l2   \n",
       "8              0.01             0.1                 l1   \n",
       "9              0.01             0.1                 l2   \n",
       "10             0.01               1                 l1   \n",
       "11             0.01               1                 l2   \n",
       "12              0.1            0.01                 l1   \n",
       "13              0.1            0.01                 l2   \n",
       "14              0.1             0.1                 l1   \n",
       "15              0.1             0.1                 l2   \n",
       "16              0.1               1                 l1   \n",
       "17              0.1               1                 l2   \n",
       "\n",
       "                                               params  split0_test_score  \\\n",
       "0   {'sgd__alpha': 0.001, 'sgd__eta0': 0.01, 'sgd_...          -0.928967   \n",
       "1   {'sgd__alpha': 0.001, 'sgd__eta0': 0.01, 'sgd_...          -0.929743   \n",
       "2   {'sgd__alpha': 0.001, 'sgd__eta0': 0.1, 'sgd__...          -0.919022   \n",
       "3   {'sgd__alpha': 0.001, 'sgd__eta0': 0.1, 'sgd__...          -0.919542   \n",
       "4   {'sgd__alpha': 0.001, 'sgd__eta0': 1, 'sgd__pe...          -0.982550   \n",
       "5   {'sgd__alpha': 0.001, 'sgd__eta0': 1, 'sgd__pe...          -0.984362   \n",
       "6   {'sgd__alpha': 0.01, 'sgd__eta0': 0.01, 'sgd__...          -0.930698   \n",
       "7   {'sgd__alpha': 0.01, 'sgd__eta0': 0.01, 'sgd__...          -0.938212   \n",
       "8   {'sgd__alpha': 0.01, 'sgd__eta0': 0.1, 'sgd__p...          -0.920156   \n",
       "9   {'sgd__alpha': 0.01, 'sgd__eta0': 0.1, 'sgd__p...          -0.926701   \n",
       "10  {'sgd__alpha': 0.01, 'sgd__eta0': 1, 'sgd__pen...          -0.986542   \n",
       "11  {'sgd__alpha': 0.01, 'sgd__eta0': 1, 'sgd__pen...          -1.006309   \n",
       "12  {'sgd__alpha': 0.1, 'sgd__eta0': 0.01, 'sgd__p...          -0.949293   \n",
       "13  {'sgd__alpha': 0.1, 'sgd__eta0': 0.01, 'sgd__p...          -1.112085   \n",
       "14  {'sgd__alpha': 0.1, 'sgd__eta0': 0.1, 'sgd__pe...          -0.948276   \n",
       "15  {'sgd__alpha': 0.1, 'sgd__eta0': 0.1, 'sgd__pe...          -1.098251   \n",
       "16  {'sgd__alpha': 0.1, 'sgd__eta0': 1, 'sgd__pena...          -1.033957   \n",
       "17  {'sgd__alpha': 0.1, 'sgd__eta0': 1, 'sgd__pena...          -1.322292   \n",
       "\n",
       "    split1_test_score  split2_test_score  mean_test_score  std_test_score  \\\n",
       "0           -0.949655          -0.850499        -0.909707        0.042710   \n",
       "1           -0.949025          -0.850796        -0.909855        0.042496   \n",
       "2           -0.951828          -0.853015        -0.907955        0.041092   \n",
       "3           -0.951126          -0.853240        -0.907969        0.040791   \n",
       "4           -0.949641          -0.909004        -0.947065        0.030080   \n",
       "5           -0.949213          -0.909603        -0.947726        0.030538   \n",
       "6           -0.949031          -0.851162        -0.910297        0.042479   \n",
       "7           -0.944352          -0.854451        -0.912338        0.041009   \n",
       "8           -0.950404          -0.853507        -0.908022        0.040478   \n",
       "9           -0.944806          -0.857187        -0.909564        0.037767   \n",
       "10          -0.948781          -0.910302        -0.948542        0.031125   \n",
       "11          -0.947086          -0.916779        -0.956725        0.037180   \n",
       "12          -0.941421          -0.857694        -0.916136        0.041450   \n",
       "13          -0.992454          -0.990857        -1.031799        0.056775   \n",
       "14          -0.943697          -0.863737        -0.918570        0.038818   \n",
       "15          -0.977684          -0.990166        -1.022034        0.054134   \n",
       "16          -0.949838          -0.925421        -0.969739        0.046491   \n",
       "17          -0.990791          -1.024639        -1.112574        0.148936   \n",
       "\n",
       "    rank_test_score  \n",
       "0                 5  \n",
       "1                 6  \n",
       "2                 1  \n",
       "3                 2  \n",
       "4                11  \n",
       "5                12  \n",
       "6                 7  \n",
       "7                 8  \n",
       "8                 3  \n",
       "9                 4  \n",
       "10               13  \n",
       "11               14  \n",
       "12                9  \n",
       "13               17  \n",
       "14               10  \n",
       "15               16  \n",
       "16               15  \n",
       "17               18  "
      ]
     },
     "execution_count": 50,
     "metadata": {},
     "output_type": "execute_result"
    }
   ],
   "source": [
    "pd.DataFrame(grid.cv_results_)"
   ]
  },
  {
   "cell_type": "code",
   "execution_count": 51,
   "metadata": {},
   "outputs": [
    {
     "data": {
      "text/plain": [
       "-0.9079549048387147"
      ]
     },
     "execution_count": 51,
     "metadata": {},
     "output_type": "execute_result"
    }
   ],
   "source": [
    "grid.best_score_"
   ]
  },
  {
   "cell_type": "code",
   "execution_count": 52,
   "metadata": {},
   "outputs": [
    {
     "data": {
      "text/plain": [
       "{'sgd__alpha': 0.001, 'sgd__eta0': 0.1, 'sgd__penalty': 'l1'}"
      ]
     },
     "execution_count": 52,
     "metadata": {},
     "output_type": "execute_result"
    }
   ],
   "source": [
    "grid.best_params_"
   ]
  },
  {
   "cell_type": "code",
   "execution_count": 53,
   "metadata": {},
   "outputs": [
    {
     "data": {
      "text/plain": [
       "array([ 5.3493831 , -0.23239664,  7.39494213,  0.74287896, -3.40554934,\n",
       "       12.14095315, 14.2166714 ,  8.65410677,  8.07160738,  8.38360427,\n",
       "       -0.9963219 , 13.09824558, 11.49072018,  2.91573875, 11.16558125,\n",
       "        3.42411282, -1.93920442, -0.92491754,  2.41998724, -2.18992161,\n",
       "        0.5684005 ,  1.94063487, -2.60482471,  6.56290839,  6.2287632 ,\n",
       "        3.45903489,  2.06184207, 10.89538191,  4.15013264, -1.37502448,\n",
       "        9.20273767,  4.23712081, 13.04754446,  9.57920554, 12.80282478,\n",
       "       12.79024722,  2.28160597,  9.11185817, -1.90688405, 10.33922657,\n",
       "       -1.4468903 , 12.60221256,  8.77402973,  4.67096137,  2.18810385,\n",
       "        2.74928483, -2.69524959,  1.70661954,  1.88014108,  9.58997758])"
      ]
     },
     "execution_count": 53,
     "metadata": {},
     "output_type": "execute_result"
    }
   ],
   "source": [
    "#best parameters estimator\n",
    "grid.best_estimator_.predict(x_test)"
   ]
  },
  {
   "cell_type": "markdown",
   "metadata": {},
   "source": [
    "# Polynomial Data"
   ]
  },
  {
   "cell_type": "code",
   "execution_count": 59,
   "metadata": {},
   "outputs": [
    {
     "data": {
      "text/plain": [
       "<matplotlib.collections.PathCollection at 0x169b5d08f10>"
      ]
     },
     "execution_count": 59,
     "metadata": {},
     "output_type": "execute_result"
    },
    {
     "data": {
      "image/png": "[encoded data removed]",
      "text/plain": [
       "<Figure size 432x288 with 1 Axes>"
      ]
     },
     "metadata": {
      "needs_background": "light"
     },
     "output_type": "display_data"
    }
   ],
   "source": [
    "m = 500\n",
    "X = np.random.rand(m,1) * 6 - 3\n",
    "y=3*X ** 2 + 4 * X + 5 + 4*np.random.rand(m,1)\n",
    "\n",
    "plt.scatter(X,y)"
   ]
  },
  {
   "cell_type": "code",
   "execution_count": 60,
   "metadata": {},
   "outputs": [],
   "source": [
    "X_train,X_test,y_train,y_test = mod.train_test_split(X,y,test_size=0.25,random_state=42)"
   ]
  },
  {
   "cell_type": "code",
   "execution_count": 61,
   "metadata": {},
   "outputs": [
    {
     "data": {
      "image/png": "[encoded data removed]",
      "text/plain": [
       "<Figure size 432x288 with 1 Axes>"
      ]
     },
     "metadata": {
      "needs_background": "light"
     },
     "output_type": "display_data"
    }
   ],
   "source": [
    "pipe = pip.Pipeline([\n",
    "    (\"scaler\",pre.StandardScaler()),\n",
    "    (\"sgd\",lin.SGDRegressor(random_state=42))\n",
    "])\n",
    "\n",
    "pipe.fit(X_train,y_train.ravel())\n",
    "y_pred=pipe.predict(X_test)\n",
    "\n",
    "plt.scatter(X_train,y_train)\n",
    "plt.scatter(X_test,y_pred)\n",
    "plt.show()\n",
    "\n",
    "#eğer veri underfit oluyorsa regulations azaltılması ve modelin komplexleştirmesi gereklidir."
   ]
  },
  {
   "cell_type": "code",
   "execution_count": 74,
   "metadata": {},
   "outputs": [
    {
     "data": {
      "image/png": "[encoded data removed]",
      "text/plain": [
       "<Figure size 432x288 with 1 Axes>"
      ]
     },
     "metadata": {
      "needs_background": "light"
     },
     "output_type": "display_data"
    }
   ],
   "source": [
    "pipe = pip.Pipeline([\n",
    "    (\"poly\",pre.PolynomialFeatures(degree=2)),\n",
    "    (\"scaler\",pre.StandardScaler()),\n",
    "    (\"sgd\",lin.SGDRegressor(random_state=42))\n",
    "])\n",
    "\n",
    "pipe.fit(X_train,y_train.ravel())\n",
    "y_pred=pipe.predict(X_test)\n",
    "\n",
    "plt.scatter(X_train,y_train)\n",
    "plt.scatter(X_test,y_pred)\n",
    "plt.show()\n"
   ]
  },
  {
   "cell_type": "code",
   "execution_count": 75,
   "metadata": {},
   "outputs": [
    {
     "name": "stdout",
     "output_type": "stream",
     "text": [
      "train score is 8.408266678158846\n",
      "test score is 7.9591695276602215\n"
     ]
    }
   ],
   "source": [
    "#underfitting model\n",
    "pipe = pip.Pipeline([\n",
    "    (\"scaler\",pre.StandardScaler()),\n",
    "    (\"sgd\",lin.SGDRegressor(random_state=42))\n",
    "])\n",
    "\n",
    "pipe.fit(X_train,y_train.ravel())\n",
    "y_pred_train=pipe.predict(X_train) \n",
    "train_score = met.mean_squared_error(y_train,y_pred_train,squared=False)\n",
    "print(\"train score is\", train_score)\n",
    "y_pred_test = pipe.predict(X_test)\n",
    "test_score = met.mean_squared_error(y_test,y_pred_test,squared=False)\n",
    "print(\"test score is\",test_score)"
   ]
  },
  {
   "cell_type": "code",
   "execution_count": 76,
   "metadata": {},
   "outputs": [
    {
     "name": "stdout",
     "output_type": "stream",
     "text": [
      "train score is 1.1545378098332286\n",
      "test score is 1.1245462163837812\n"
     ]
    }
   ],
   "source": [
    "#fitting model\n",
    "pipe = pip.Pipeline([\n",
    "    (\"poly\",pre.PolynomialFeatures(degree=2)),\n",
    "    (\"scaler\",pre.StandardScaler()),\n",
    "    (\"sgd\",lin.SGDRegressor(random_state=42))\n",
    "])\n",
    "\n",
    "pipe.fit(X_train,y_train.ravel())\n",
    "y_pred_train=pipe.predict(X_train) \n",
    "train_score = met.mean_squared_error(y_train,y_pred_train,squared=False)\n",
    "print(\"train score is\", train_score)\n",
    "y_pred_test = pipe.predict(X_test)\n",
    "test_score = met.mean_squared_error(y_test,y_pred_test,squared=False)\n",
    "print(\"test score is\",test_score)"
   ]
  },
  {
   "cell_type": "markdown",
   "metadata": {},
   "source": [
    "# Learning Curves"
   ]
  },
  {
   "cell_type": "code",
   "execution_count": 86,
   "metadata": {},
   "outputs": [],
   "source": [
    "def plotLearningCurve(est, X_train, y_train, X_test, y_test, n_iter=10, minY=0,maxY=1):\n",
    "    x_values = [] #number of training samples\n",
    "    y_values_train = []\n",
    "    y_values_test = []\n",
    "\n",
    "    for i in np.linspace(10,len(X_train),n_iter): #increase training sizes by every iter\n",
    "        i=int(i)\n",
    "        #select a subset of training data\n",
    "        X_train_temp = X_train[:i]\n",
    "        y_train_temp = y_train[:i]\n",
    "        #create the model\n",
    "        est.fit(X_train_temp, y_train_temp)\n",
    "        #evaluate train set\n",
    "        y_pred_train=est.predict(X_train_temp)\n",
    "        train_score = met.mean_squared_error(y_train_temp,y_pred_train,squared=False)\n",
    "        #evaluate test set\n",
    "        y_pred_test=est.predict(X_test)\n",
    "        test_score = met.mean_squared_error(y_test,y_pred_test,squared=False)\n",
    "        #populate lists\n",
    "        y_values_train.append(train_score)\n",
    "        y_values_test.append(test_score)\n",
    "        x_values.append(i)\n",
    "    plt.figure(figsize=(10,6))\n",
    "    plt.plot(x_values,y_values_train,label=\"Train\")\n",
    "    plt.plot(x_values,y_values_test, label=\"Test\")\n",
    "    plt.legend()\n",
    "    plt.ylabel(\"RMSE\")\n",
    "    plt.xlabel(\"# of training samples\")\n",
    "    plt.grid(True)\n",
    "    plt.ylim(minY,maxY)\n",
    "    plt.show()\n",
    "\n",
    "\n"
   ]
  },
  {
   "cell_type": "code",
   "execution_count": 89,
   "metadata": {},
   "outputs": [
    {
     "data": {
      "image/png": "[encoded data removed]",
      "text/plain": [
       "<Figure size 720x432 with 1 Axes>"
      ]
     },
     "metadata": {
      "needs_background": "light"
     },
     "output_type": "display_data"
    }
   ],
   "source": [
    "pipe = pip.Pipeline([\n",
    "    (\"scaler\",pre.StandardScaler()),\n",
    "    (\"sgd\",lin.SGDRegressor(random_state=42))\n",
    "])\n",
    "plotLearningCurve(pipe, X_train, y_train.ravel(), X_test, y_test.ravel(), n_iter=10,maxY=10)"
   ]
  },
  {
   "cell_type": "code",
   "execution_count": 90,
   "metadata": {},
   "outputs": [
    {
     "data": {
      "image/png": "[encoded data removed]",
      "text/plain": [
       "<Figure size 720x432 with 1 Axes>"
      ]
     },
     "metadata": {
      "needs_background": "light"
     },
     "output_type": "display_data"
    }
   ],
   "source": [
    "pipe_poly = pip.Pipeline([\n",
    "    (\"poly\",pre.PolynomialFeatures(degree=2)),\n",
    "    (\"scaler\",pre.StandardScaler()),\n",
    "    (\"sgd\",lin.SGDRegressor(random_state=42))\n",
    "])\n",
    "plotLearningCurve(pipe_poly, X_train, y_train.ravel(), X_test, y_test.ravel(), n_iter=10,maxY=10)"
   ]
  },
  {
   "cell_type": "code",
   "execution_count": null,
   "metadata": {},
   "outputs": [],
   "source": []
  }
 ],
 "metadata": {
  "interpreter": {
   "hash": "178cc0fd10d6dc57f9d19bb005717997f87ade44bcc6e3f78e11055999a3033b"
  },
  "kernelspec": {
   "display_name": "Python 3.9.12 ('base')",
   "language": "python",
   "name": "python3"
  },
  "language_info": {
   "codemirror_mode": {
    "name": "ipython",
    "version": 3
   },
   "file_extension": ".py",
   "mimetype": "text/x-python",
   "name": "python",
   "nbconvert_exporter": "python",
   "pygments_lexer": "ipython3",
   "version": "3.9.12"
  },
  "orig_nbformat": 4
 },
 "nbformat": 4,
 "nbformat_minor": 2
}
